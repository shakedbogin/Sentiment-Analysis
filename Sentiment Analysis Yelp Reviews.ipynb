{
 "cells": [
  {
   "cell_type": "code",
   "execution_count": 82,
   "metadata": {
    "id": "fLkArhLydC7Y"
   },
   "outputs": [],
   "source": [
    "import pandas as pd\n",
    "import numpy as np\n",
    "from gensim.models import Doc2Vec\n",
    "from gensim.models import Word2Vec\n",
    "from sklearn.ensemble import RandomForestRegressor\n",
    "from sklearn.tree import DecisionTreeRegressor\n",
    "from sklearn.linear_model import LogisticRegression\n",
    "from gensim.models.doc2vec import TaggedDocument\n",
    "import seaborn as sns\n",
    "import matplotlib.pyplot as plt\n",
    "%matplotlib inline\n",
    "import pickle\n",
    "from sklearn.metrics import accuracy_score, f1_score\n",
    "from sklearn.metrics import confusion_matrix\n",
    "import string\n",
    "from gensim.utils import simple_preprocess\n",
    "from sklearn.model_selection import train_test_split\n",
    "import os"
   ]
  },
  {
   "cell_type": "markdown",
   "metadata": {},
   "source": [
    "## Preparing the data\n",
    "#### Upload the data and analyze raw data.\n",
    "#### These files are extremely large, I'll be happy to send them to you, contact me - Shakedbogins@gmail.com"
   ]
  },
  {
   "cell_type": "code",
   "execution_count": 4,
   "metadata": {
    "id": "ni1sVJnTc1iW"
   },
   "outputs": [],
   "source": [
    "df = pd.read_csv('Yelp_reviews.zip') "
   ]
  },
  {
   "cell_type": "code",
   "execution_count": 5,
   "metadata": {},
   "outputs": [],
   "source": [
    "dump_pickel = 'df_pickle.pickle'"
   ]
  },
  {
   "cell_type": "code",
   "execution_count": 6,
   "metadata": {
    "colab": {
     "base_uri": "https://localhost:8080/"
    },
    "id": "eVO9agCC0PYc",
    "outputId": "4ee42de8-8b34-4bd9-d282-6b6cdc82473d"
   },
   "outputs": [
    {
     "name": "stdout",
     "output_type": "stream",
     "text": [
      "<class 'pandas.core.frame.DataFrame'>\n",
      "RangeIndex: 526167 entries, 0 to 526166\n",
      "Data columns (total 2 columns):\n",
      " #   Column  Non-Null Count   Dtype \n",
      "---  ------  --------------   ----- \n",
      " 0   text    526167 non-null  object\n",
      " 1   stars   526167 non-null  int64 \n",
      "dtypes: int64(1), object(1)\n",
      "memory usage: 8.0+ MB\n"
     ]
    }
   ],
   "source": [
    "df.info()"
   ]
  },
  {
   "cell_type": "code",
   "execution_count": 7,
   "metadata": {
    "colab": {
     "base_uri": "https://localhost:8080/",
     "height": 204
    },
    "id": "fZnZw2uc0UXr",
    "outputId": "902debca-0be0-4150-98c1-4cd16ddd9fee"
   },
   "outputs": [
    {
     "data": {
      "text/html": [
       "<div>\n",
       "<style scoped>\n",
       "    .dataframe tbody tr th:only-of-type {\n",
       "        vertical-align: middle;\n",
       "    }\n",
       "\n",
       "    .dataframe tbody tr th {\n",
       "        vertical-align: top;\n",
       "    }\n",
       "\n",
       "    .dataframe thead th {\n",
       "        text-align: right;\n",
       "    }\n",
       "</style>\n",
       "<table border=\"1\" class=\"dataframe\">\n",
       "  <thead>\n",
       "    <tr style=\"text-align: right;\">\n",
       "      <th></th>\n",
       "      <th>text</th>\n",
       "      <th>stars</th>\n",
       "    </tr>\n",
       "  </thead>\n",
       "  <tbody>\n",
       "    <tr>\n",
       "      <th>0</th>\n",
       "      <td>My family (myself, my husband and my daughters...</td>\n",
       "      <td>5</td>\n",
       "    </tr>\n",
       "    <tr>\n",
       "      <th>1</th>\n",
       "      <td>I just had a great experience with Lance at Th...</td>\n",
       "      <td>5</td>\n",
       "    </tr>\n",
       "    <tr>\n",
       "      <th>2</th>\n",
       "      <td>This location is sooo clean and the customer s...</td>\n",
       "      <td>5</td>\n",
       "    </tr>\n",
       "    <tr>\n",
       "      <th>3</th>\n",
       "      <td>YUM! quite possibly the best veggie burger I h...</td>\n",
       "      <td>4</td>\n",
       "    </tr>\n",
       "    <tr>\n",
       "      <th>4</th>\n",
       "      <td>We had AYCE lunch on a weekend. In a nutshell,...</td>\n",
       "      <td>3</td>\n",
       "    </tr>\n",
       "  </tbody>\n",
       "</table>\n",
       "</div>"
      ],
      "text/plain": [
       "                                                text  stars\n",
       "0  My family (myself, my husband and my daughters...      5\n",
       "1  I just had a great experience with Lance at Th...      5\n",
       "2  This location is sooo clean and the customer s...      5\n",
       "3  YUM! quite possibly the best veggie burger I h...      4\n",
       "4  We had AYCE lunch on a weekend. In a nutshell,...      3"
      ]
     },
     "execution_count": 7,
     "metadata": {},
     "output_type": "execute_result"
    }
   ],
   "source": [
    "df.head()"
   ]
  },
  {
   "cell_type": "code",
   "execution_count": 8,
   "metadata": {
    "colab": {
     "base_uri": "https://localhost:8080/",
     "height": 333
    },
    "id": "Kj8DHbVbc1zT",
    "outputId": "48b3f0af-7db2-4818-dd20-16ec327b18d6"
   },
   "outputs": [
    {
     "data": {
      "image/png": "[encoded data removed]",
      "text/plain": [
       "<Figure size 864x288 with 1 Axes>"
      ]
     },
     "metadata": {
      "needs_background": "light"
     },
     "output_type": "display_data"
    }
   ],
   "source": [
    "df_graph = df['stars'].value_counts()\n",
    "plt.figure(figsize=(12,4))\n",
    "sns.barplot(df_graph.index, df_graph.values, alpha=0.8)\n",
    "plt.ylabel('Number of Occurrences', fontsize=12)\n",
    "plt.xlabel('stars', fontsize=12)\n",
    "plt.xticks(rotation=90)\n",
    "plt.show();"
   ]
  },
  {
   "cell_type": "markdown",
   "metadata": {},
   "source": [
    "### We can see that the data is not equally distributed by the groups of grades"
   ]
  },
  {
   "cell_type": "markdown",
   "metadata": {
    "id": "cem17BJue3oF"
   },
   "source": [
    "## Start part A - Doc2vec\n",
    "### Use the 'simple_preprocess' function to normalize the text and add it to a new column.\n",
    "\n"
   ]
  },
  {
   "cell_type": "code",
   "execution_count": 9,
   "metadata": {
    "id": "F_N0TPywc1ie"
   },
   "outputs": [],
   "source": [
    "import logging\n",
    "logging.basicConfig(format='%(asctime)s : %(levelname)s : %(message)s', level=logging.INFO)"
   ]
  },
  {
   "cell_type": "code",
   "execution_count": 10,
   "metadata": {},
   "outputs": [
    {
     "name": "stdout",
     "output_type": "stream",
     "text": [
      "0    [my, family, myself, my, husband, and, my, dau...\n",
      "1    [just, had, great, experience, with, lance, at...\n",
      "2    [this, location, is, sooo, clean, and, the, cu...\n",
      "3    [yum, quite, possibly, the, best, veggie, burg...\n",
      "4    [we, had, ayce, lunch, on, weekend, in, nutshe...\n",
      "5    [first, experience, was, round, trip, flight, ...\n",
      "6    [love, the, staff, very, clean, workspace, and...\n",
      "7    [hello, fellow, yelpers, anyone, who, reads, m...\n",
      "8    [this, is, the, best, food, in, montreal, you,...\n",
      "9    [rare, miss, yelpers, the, restaurant, is, is,...\n",
      "Name: tokenized_text, dtype: object\n",
      "Wall time: 4min 53s\n"
     ]
    }
   ],
   "source": [
    "%%time\n",
    "df['tokenized_text'] = [simple_preprocess(line, deacc=True) for line in df['text']] \n",
    "print(df['tokenized_text'].head(10))"
   ]
  },
  {
   "cell_type": "markdown",
   "metadata": {},
   "source": [
    "### Split the data - X_train, X_test, Y_train, Y_test\n"
   ]
  },
  {
   "cell_type": "code",
   "execution_count": 11,
   "metadata": {},
   "outputs": [
    {
     "name": "stdout",
     "output_type": "stream",
     "text": [
      "Value counts for Train sentiments\n",
      "5    67383\n",
      "4    36769\n",
      "1    22056\n",
      "3    18504\n",
      "2    13138\n",
      "Name: stars, dtype: int64\n",
      "Value counts for Test sentiments\n",
      "5    157361\n",
      "4     85843\n",
      "1     51296\n",
      "3     43165\n",
      "2     30652\n",
      "Name: stars, dtype: int64\n",
      "<class 'pandas.core.series.Series'>\n",
      "<class 'pandas.core.series.Series'>\n",
      "    index                                     tokenized_text\n",
      "0  424716  [slow, service, sat, there, in, the, drive, th...\n",
      "1  101045  [amazing, food, amazing, service, have, visite...\n",
      "2   28388  [this, is, my, least, favorite, los, favs, to,...\n",
      "3  474705  [as, usual, this, place, was, amazing, and, de...\n",
      "4  175929  [ca, fait, maintenant, presqu, un, mois, compl...\n",
      "Wall time: 682 ms\n"
     ]
    }
   ],
   "source": [
    "%%time\n",
    "\n",
    "def split_train_test(df, test_size=0.7, shuffle_state=True):\n",
    "    X_train, X_test, Y_train, Y_test = train_test_split(df['tokenized_text'], \n",
    "                                                        df['stars'], \n",
    "                                                        shuffle=shuffle_state,\n",
    "                                                        test_size=test_size, \n",
    "                                                        random_state=15)\n",
    "    print(\"Value counts for Train sentiments\")\n",
    "    print(Y_train.value_counts())\n",
    "    print(\"Value counts for Test sentiments\")\n",
    "    print(Y_test.value_counts())\n",
    "    print(type(X_train))\n",
    "    print(type(Y_train))\n",
    "    X_train = X_train.reset_index()\n",
    "    X_test = X_test.reset_index()\n",
    "    Y_train = Y_train.to_frame()\n",
    "    Y_train = Y_train.reset_index()\n",
    "    Y_test = Y_test.to_frame()\n",
    "    Y_test = Y_test.reset_index()\n",
    "    print(X_train.head())\n",
    "    return X_train, X_test, Y_train, Y_test\n",
    "\n",
    "# Call the train_test_split\n",
    "X_train, X_test, Y_train, Y_test = split_train_test(df)\n"
   ]
  },
  {
   "cell_type": "code",
   "execution_count": 12,
   "metadata": {},
   "outputs": [
    {
     "data": {
      "text/html": [
       "<div>\n",
       "<style scoped>\n",
       "    .dataframe tbody tr th:only-of-type {\n",
       "        vertical-align: middle;\n",
       "    }\n",
       "\n",
       "    .dataframe tbody tr th {\n",
       "        vertical-align: top;\n",
       "    }\n",
       "\n",
       "    .dataframe thead th {\n",
       "        text-align: right;\n",
       "    }\n",
       "</style>\n",
       "<table border=\"1\" class=\"dataframe\">\n",
       "  <thead>\n",
       "    <tr style=\"text-align: right;\">\n",
       "      <th></th>\n",
       "      <th>index</th>\n",
       "      <th>tokenized_text</th>\n",
       "    </tr>\n",
       "  </thead>\n",
       "  <tbody>\n",
       "    <tr>\n",
       "      <th>0</th>\n",
       "      <td>424716</td>\n",
       "      <td>[slow, service, sat, there, in, the, drive, th...</td>\n",
       "    </tr>\n",
       "    <tr>\n",
       "      <th>1</th>\n",
       "      <td>101045</td>\n",
       "      <td>[amazing, food, amazing, service, have, visite...</td>\n",
       "    </tr>\n",
       "    <tr>\n",
       "      <th>2</th>\n",
       "      <td>28388</td>\n",
       "      <td>[this, is, my, least, favorite, los, favs, to,...</td>\n",
       "    </tr>\n",
       "    <tr>\n",
       "      <th>3</th>\n",
       "      <td>474705</td>\n",
       "      <td>[as, usual, this, place, was, amazing, and, de...</td>\n",
       "    </tr>\n",
       "    <tr>\n",
       "      <th>4</th>\n",
       "      <td>175929</td>\n",
       "      <td>[ca, fait, maintenant, presqu, un, mois, compl...</td>\n",
       "    </tr>\n",
       "    <tr>\n",
       "      <th>...</th>\n",
       "      <td>...</td>\n",
       "      <td>...</td>\n",
       "    </tr>\n",
       "    <tr>\n",
       "      <th>157845</th>\n",
       "      <td>217718</td>\n",
       "      <td>[perfect, drive, through, experience, flawless...</td>\n",
       "    </tr>\n",
       "    <tr>\n",
       "      <th>157846</th>\n",
       "      <td>44231</td>\n",
       "      <td>[wow, we, purchased, tickets, to, see, the, ch...</td>\n",
       "    </tr>\n",
       "    <tr>\n",
       "      <th>157847</th>\n",
       "      <td>35483</td>\n",
       "      <td>[the, og, was, amazing, hands, down, this, is,...</td>\n",
       "    </tr>\n",
       "    <tr>\n",
       "      <th>157848</th>\n",
       "      <td>199301</td>\n",
       "      <td>[review, based, on, atmosphere, service, sampl...</td>\n",
       "    </tr>\n",
       "    <tr>\n",
       "      <th>157849</th>\n",
       "      <td>446197</td>\n",
       "      <td>[great, organic, joint, featuring, fresh, and,...</td>\n",
       "    </tr>\n",
       "  </tbody>\n",
       "</table>\n",
       "<p>157850 rows × 2 columns</p>\n",
       "</div>"
      ],
      "text/plain": [
       "         index                                     tokenized_text\n",
       "0       424716  [slow, service, sat, there, in, the, drive, th...\n",
       "1       101045  [amazing, food, amazing, service, have, visite...\n",
       "2        28388  [this, is, my, least, favorite, los, favs, to,...\n",
       "3       474705  [as, usual, this, place, was, amazing, and, de...\n",
       "4       175929  [ca, fait, maintenant, presqu, un, mois, compl...\n",
       "...        ...                                                ...\n",
       "157845  217718  [perfect, drive, through, experience, flawless...\n",
       "157846   44231  [wow, we, purchased, tickets, to, see, the, ch...\n",
       "157847   35483  [the, og, was, amazing, hands, down, this, is,...\n",
       "157848  199301  [review, based, on, atmosphere, service, sampl...\n",
       "157849  446197  [great, organic, joint, featuring, fresh, and,...\n",
       "\n",
       "[157850 rows x 2 columns]"
      ]
     },
     "execution_count": 12,
     "metadata": {},
     "output_type": "execute_result"
    }
   ],
   "source": [
    "X_train\n"
   ]
  },
  {
   "cell_type": "code",
   "execution_count": 13,
   "metadata": {},
   "outputs": [],
   "source": [
    "with open(dump_pickel, 'w+b') as out_file: \n",
    "    pickle.dump(X_train, out_file, pickle.HIGHEST_PROTOCOL)\n",
    "    pickle.dump(X_test, out_file, pickle.HIGHEST_PROTOCOL)\n",
    "    pickle.dump(Y_test, out_file, pickle.HIGHEST_PROTOCOL)\n",
    "    pickle.dump(Y_test, out_file, pickle.HIGHEST_PROTOCOL)"
   ]
  },
  {
   "cell_type": "code",
   "execution_count": null,
   "metadata": {},
   "outputs": [],
   "source": [
    "# with open(dump_pickel,'rb') as in_file:\n",
    "#     X_train = pickle.load(in_file)\n",
    "#     X_test = pickle.load(in_file)\n",
    "#     Y_test = pickle.load(in_file)\n",
    "#     Y_test = pickle.load(in_file)"
   ]
  },
  {
   "cell_type": "markdown",
   "metadata": {},
   "source": [
    "### Generate a list of tagged documents so that each document would contain a list of words and a list of tags.\n",
    "### For this part use only the X_train and X_text.\n",
    "### The X_train is now the training documents (train_corpus)"
   ]
  },
  {
   "cell_type": "code",
   "execution_count": 14,
   "metadata": {},
   "outputs": [
    {
     "name": "stdout",
     "output_type": "stream",
     "text": [
      "Wall time: 0 ns\n"
     ]
    }
   ],
   "source": [
    "%time\n",
    "\n",
    "train_docs = [TaggedDocument(doc, [i]) for i, doc in enumerate(X_train['tokenized_text'])]\n",
    "test_docs = [TaggedDocument(doc, [i]) for i, doc in enumerate(X_test['tokenized_text'])]\n",
    "\n",
    "\n",
    "train_corpus = list(train_docs)\n",
    "test_corpus = list(test_docs)"
   ]
  },
  {
   "cell_type": "code",
   "execution_count": 15,
   "metadata": {},
   "outputs": [
    {
     "data": {
      "text/plain": [
       "TaggedDocument(words=['the', 'city', 'of', 'las', 'vegas', 'has', 'gone', 'down', 'hill', 'severely', 'the', 'past', 'few', 'years', 'my', 'wife', 'and', 'have', 'been', 'going', 'there', 'at', 'least', 'once', 'year', 'since', 'we', 'both', 'know', 'change', 'in', 'vegas', 'is', 'inevitable', 'but', 'now', 'this', 'is', 'vegas', 'we', 'no', 'longer', 'find', 'pleasurable', 'to', 'visit', 'the', 'vagrants', 'bums', 'beggers', 'and', 'criminal', 'element', 'used', 'to', 'stay', 'on', 'the', 'north', 'end', 'of', 'the', 'strip', 'then', 'they', 'tore', 'down', 'lot', 'of', 'the', 'north', 'end', 'casinos', 'and', 'all', 'the', 'filth', 'moved', 'to', 'the', 'middle', 'and', 'south', 'end', 'of', 'the', 'strip', 'casinos', 'on', 'the', 'strip', 'lost', 'collectively', 'million', 'dollars', 'last', 'year', 'and', 'this', 'year', 'they', 'are', 'down', 'from', 'that', 'instead', 'of', 'turning', 'back', 'to', 'what', 'built', 'las', 'vegas', 'which', 'was', 'the', 'middle', 'class', 'dropping', 'grand', 'over', 'weekend', 'people', 'came', 'out', 'for', 'inexpensive', 'food', 'cheap', 'alcohol', 'and', 'to', 'gamble', 'thousand', 'or', 'so', 'now', 'the', 'powers', 'that', 'be', 'want', 'to', 'reinvent', 'las', 'vegas', 'with', 'expensive', 'dining', 'and', 'by', 'the', 'bottle', 'dance', 'clubs', 'now', 'the', 'expensive', 'dining', 'isn', 'at', 'fault', 'for', 'turning', 'las', 'vegas', 'into', 'den', 'of', 'thieves', 'crooks', 'criminals', 'and', 'drug', 'dealers', 'but', 'the', 'by', 'the', 'bottle', 'dance', 'clubs', 'are', 've', 'been', 'in', 'law', 'enforcement', 'for', 'years', 'and', 'it', 'doesn', 'take', 'detective', 'to', 'know', 'when', 'drug', 'deals', 'are', 'going', 'down', 'in', 'broad', 'daylight', 'not', 'to', 'mention', 'other', 'criminal', 'activities', 'the', 'entire', 'week', 'we', 'were', 'there', 'we', 'only', 'saw', 'two', 'cops', 'but', 'witnessed', 'numerous', 'illegal', 'activities', 'you', 'can', 'basically', 'say', 'there', 'was', 'no', 'police', 'presence', 'added', 'with', 'the', 'drunks', 'drug', 'addicts', 'thugs', 'and', 'beggers', 'roaming', 'the', 'strip', 'it', 'didn', 'make', 'for', 'pleasant', 'time', 'know', 'we', 'won', 'be', 'going', 'back', 'until', 'they', 'have', 'cleaned', 'up', 'their', 'garbage'], tags=[20])"
      ]
     },
     "execution_count": 15,
     "metadata": {},
     "output_type": "execute_result"
    }
   ],
   "source": [
    "train_docs[20]"
   ]
  },
  {
   "cell_type": "markdown",
   "metadata": {},
   "source": [
    "### Train Doc2vec model with the train_corpus\n",
    "#### Include stop words in the model. Stop words determine the context of every sentence, especially in our case with grade predictions (for example \"it was not fun\" >> \"fun\"). When using the model to analyze a whole review or sentence, stop words are important."
   ]
  },
  {
   "cell_type": "code",
   "execution_count": 18,
   "metadata": {},
   "outputs": [
    {
     "name": "stderr",
     "output_type": "stream",
     "text": [
      "2021-01-04 22:33:51,001 : INFO : collecting all words and their counts\n",
      "2021-01-04 22:33:51,003 : INFO : PROGRESS: at example #0, processed 0 words (0/s), 0 word types, 0 tags\n",
      "2021-01-04 22:33:51,276 : INFO : PROGRESS: at example #10000, processed 1074160 words (3958402/s), 28800 word types, 10000 tags\n",
      "2021-01-04 22:33:51,528 : INFO : PROGRESS: at example #20000, processed 2151565 words (4280488/s), 40321 word types, 20000 tags\n",
      "2021-01-04 22:33:51,760 : INFO : PROGRESS: at example #30000, processed 3197617 words (4539598/s), 48774 word types, 30000 tags\n",
      "2021-01-04 22:33:51,998 : INFO : PROGRESS: at example #40000, processed 4246495 words (4413176/s), 56114 word types, 40000 tags\n",
      "2021-01-04 22:33:52,229 : INFO : PROGRESS: at example #50000, processed 5306028 words (4631127/s), 62441 word types, 50000 tags\n",
      "2021-01-04 22:33:52,467 : INFO : PROGRESS: at example #60000, processed 6371558 words (4482101/s), 68139 word types, 60000 tags\n",
      "2021-01-04 22:33:52,691 : INFO : PROGRESS: at example #70000, processed 7422938 words (4722452/s), 73309 word types, 70000 tags\n",
      "2021-01-04 22:33:52,944 : INFO : PROGRESS: at example #80000, processed 8473410 words (4165475/s), 77999 word types, 80000 tags\n",
      "2021-01-04 22:33:53,165 : INFO : PROGRESS: at example #90000, processed 9529843 words (4793801/s), 82494 word types, 90000 tags\n",
      "2021-01-04 22:33:53,416 : INFO : PROGRESS: at example #100000, processed 10602033 words (4284696/s), 86736 word types, 100000 tags\n",
      "2021-01-04 22:33:53,660 : INFO : PROGRESS: at example #110000, processed 11663359 words (4376396/s), 90762 word types, 110000 tags\n",
      "2021-01-04 22:33:53,894 : INFO : PROGRESS: at example #120000, processed 12729389 words (4583884/s), 94631 word types, 120000 tags\n",
      "2021-01-04 22:33:54,165 : INFO : PROGRESS: at example #130000, processed 13788884 words (3917787/s), 98290 word types, 130000 tags\n",
      "2021-01-04 22:33:54,396 : INFO : PROGRESS: at example #140000, processed 14833238 words (4541929/s), 101736 word types, 140000 tags\n",
      "2021-01-04 22:33:54,642 : INFO : PROGRESS: at example #150000, processed 15887977 words (4311679/s), 105026 word types, 150000 tags\n",
      "2021-01-04 22:33:54,826 : INFO : collected 107530 word types and 157850 unique tags from a corpus of 157850 examples and 16708933 words\n",
      "2021-01-04 22:33:54,827 : INFO : Loading a fresh vocabulary\n",
      "2021-01-04 22:33:54,956 : INFO : effective_min_count=5 retains 34062 unique words (31% of original 107530, drops 73468)\n",
      "2021-01-04 22:33:54,957 : INFO : effective_min_count=5 leaves 16594500 word corpus (99% of original 16708933, drops 114433)\n",
      "2021-01-04 22:33:55,090 : INFO : deleting the raw counts dictionary of 107530 items\n",
      "2021-01-04 22:33:55,094 : INFO : sample=0.001 downsamples 55 most-common words\n",
      "2021-01-04 22:33:55,095 : INFO : downsampling leaves estimated 12692893 word corpus (76.5% of prior 16594500)\n",
      "2021-01-04 22:33:55,243 : INFO : estimated required memory for 34062 words and 100 dimensions: 107420600 bytes\n",
      "2021-01-04 22:33:55,244 : INFO : resetting layer weights\n",
      "2021-01-04 22:34:38,082 : INFO : training model with 3 workers on 34062 vocabulary and 100 features, using sg=0 hs=0 sample=0.001 negative=5 window=5\n",
      "2021-01-04 22:34:39,137 : INFO : EPOCH 1 - PROGRESS: at 3.60% examples, 468467 words/s, in_qsize 5, out_qsize 0\n",
      "2021-01-04 22:34:40,138 : INFO : EPOCH 1 - PROGRESS: at 7.42% examples, 481731 words/s, in_qsize 6, out_qsize 0\n",
      "2021-01-04 22:34:41,151 : INFO : EPOCH 1 - PROGRESS: at 11.22% examples, 486424 words/s, in_qsize 6, out_qsize 0\n",
      "2021-01-04 22:34:42,155 : INFO : EPOCH 1 - PROGRESS: at 15.09% examples, 488221 words/s, in_qsize 5, out_qsize 0\n",
      "2021-01-04 22:34:43,166 : INFO : EPOCH 1 - PROGRESS: at 19.02% examples, 488365 words/s, in_qsize 6, out_qsize 0\n",
      "2021-01-04 22:34:44,169 : INFO : EPOCH 1 - PROGRESS: at 22.82% examples, 489099 words/s, in_qsize 5, out_qsize 0\n",
      "2021-01-04 22:34:45,180 : INFO : EPOCH 1 - PROGRESS: at 26.82% examples, 489138 words/s, in_qsize 5, out_qsize 0\n",
      "2021-01-04 22:34:46,199 : INFO : EPOCH 1 - PROGRESS: at 30.72% examples, 489770 words/s, in_qsize 5, out_qsize 0\n",
      "2021-01-04 22:34:47,217 : INFO : EPOCH 1 - PROGRESS: at 34.60% examples, 490122 words/s, in_qsize 5, out_qsize 0\n",
      "2021-01-04 22:34:48,224 : INFO : EPOCH 1 - PROGRESS: at 38.46% examples, 490934 words/s, in_qsize 6, out_qsize 0\n",
      "2021-01-04 22:34:49,229 : INFO : EPOCH 1 - PROGRESS: at 42.34% examples, 490319 words/s, in_qsize 5, out_qsize 0\n",
      "2021-01-04 22:34:50,236 : INFO : EPOCH 1 - PROGRESS: at 46.17% examples, 490432 words/s, in_qsize 5, out_qsize 0\n",
      "2021-01-04 22:34:51,278 : INFO : EPOCH 1 - PROGRESS: at 50.12% examples, 490385 words/s, in_qsize 6, out_qsize 0\n",
      "2021-01-04 22:34:52,281 : INFO : EPOCH 1 - PROGRESS: at 54.02% examples, 490619 words/s, in_qsize 6, out_qsize 0\n",
      "2021-01-04 22:34:53,305 : INFO : EPOCH 1 - PROGRESS: at 57.94% examples, 491153 words/s, in_qsize 6, out_qsize 0\n",
      "2021-01-04 22:34:54,320 : INFO : EPOCH 1 - PROGRESS: at 61.84% examples, 491418 words/s, in_qsize 5, out_qsize 0\n",
      "2021-01-04 22:34:55,325 : INFO : EPOCH 1 - PROGRESS: at 65.71% examples, 491882 words/s, in_qsize 5, out_qsize 0\n",
      "2021-01-04 22:34:56,330 : INFO : EPOCH 1 - PROGRESS: at 69.57% examples, 491885 words/s, in_qsize 6, out_qsize 0\n",
      "2021-01-04 22:34:57,346 : INFO : EPOCH 1 - PROGRESS: at 73.34% examples, 491657 words/s, in_qsize 5, out_qsize 0\n",
      "2021-01-04 22:34:58,362 : INFO : EPOCH 1 - PROGRESS: at 77.20% examples, 491334 words/s, in_qsize 5, out_qsize 0\n",
      "2021-01-04 22:34:59,378 : INFO : EPOCH 1 - PROGRESS: at 81.12% examples, 491523 words/s, in_qsize 5, out_qsize 0\n",
      "2021-01-04 22:35:00,379 : INFO : EPOCH 1 - PROGRESS: at 84.86% examples, 490647 words/s, in_qsize 5, out_qsize 0\n",
      "2021-01-04 22:35:01,390 : INFO : EPOCH 1 - PROGRESS: at 88.74% examples, 490604 words/s, in_qsize 5, out_qsize 0\n",
      "2021-01-04 22:35:02,404 : INFO : EPOCH 1 - PROGRESS: at 92.64% examples, 490567 words/s, in_qsize 5, out_qsize 0\n",
      "2021-01-04 22:35:03,422 : INFO : EPOCH 1 - PROGRESS: at 96.49% examples, 490423 words/s, in_qsize 5, out_qsize 0\n",
      "2021-01-04 22:35:04,308 : INFO : worker thread finished; awaiting finish of 2 more threads\n",
      "2021-01-04 22:35:04,310 : INFO : worker thread finished; awaiting finish of 1 more threads\n",
      "2021-01-04 22:35:04,311 : INFO : worker thread finished; awaiting finish of 0 more threads\n",
      "2021-01-04 22:35:04,312 : INFO : EPOCH - 1 : training on 16708933 raw words (12848893 effective words) took 26.2s, 490741 effective words/s\n",
      "2021-01-04 22:35:05,332 : INFO : EPOCH 2 - PROGRESS: at 3.77% examples, 488855 words/s, in_qsize 5, out_qsize 0\n",
      "2021-01-04 22:35:06,367 : INFO : EPOCH 2 - PROGRESS: at 7.49% examples, 476371 words/s, in_qsize 5, out_qsize 0\n",
      "2021-01-04 22:35:07,371 : INFO : EPOCH 2 - PROGRESS: at 11.22% examples, 481568 words/s, in_qsize 5, out_qsize 0\n",
      "2021-01-04 22:35:08,379 : INFO : EPOCH 2 - PROGRESS: at 14.98% examples, 480246 words/s, in_qsize 5, out_qsize 0\n",
      "2021-01-04 22:35:09,409 : INFO : EPOCH 2 - PROGRESS: at 18.83% examples, 478680 words/s, in_qsize 6, out_qsize 1\n",
      "2021-01-04 22:35:10,430 : INFO : EPOCH 2 - PROGRESS: at 22.64% examples, 479692 words/s, in_qsize 5, out_qsize 0\n",
      "2021-01-04 22:35:11,459 : INFO : EPOCH 2 - PROGRESS: at 26.57% examples, 478782 words/s, in_qsize 6, out_qsize 0\n",
      "2021-01-04 22:35:12,481 : INFO : EPOCH 2 - PROGRESS: at 30.23% examples, 475897 words/s, in_qsize 5, out_qsize 0\n",
      "2021-01-04 22:35:13,483 : INFO : EPOCH 2 - PROGRESS: at 33.96% examples, 476911 words/s, in_qsize 5, out_qsize 0\n",
      "2021-01-04 22:35:14,490 : INFO : EPOCH 2 - PROGRESS: at 37.50% examples, 475247 words/s, in_qsize 5, out_qsize 0\n",
      "2021-01-04 22:35:15,506 : INFO : EPOCH 2 - PROGRESS: at 41.35% examples, 475649 words/s, in_qsize 5, out_qsize 0\n",
      "2021-01-04 22:35:16,515 : INFO : EPOCH 2 - PROGRESS: at 45.27% examples, 477422 words/s, in_qsize 5, out_qsize 0\n",
      "2021-01-04 22:35:17,529 : INFO : EPOCH 2 - PROGRESS: at 49.11% examples, 478339 words/s, in_qsize 6, out_qsize 0\n",
      "2021-01-04 22:35:18,548 : INFO : EPOCH 2 - PROGRESS: at 53.05% examples, 479362 words/s, in_qsize 5, out_qsize 0\n",
      "2021-01-04 22:35:19,560 : INFO : EPOCH 2 - PROGRESS: at 56.69% examples, 477991 words/s, in_qsize 5, out_qsize 0\n",
      "2021-01-04 22:35:20,569 : INFO : EPOCH 2 - PROGRESS: at 60.52% examples, 479319 words/s, in_qsize 5, out_qsize 0\n",
      "2021-01-04 22:35:21,573 : INFO : EPOCH 2 - PROGRESS: at 64.41% examples, 480533 words/s, in_qsize 6, out_qsize 0\n"
     ]
    },
    {
     "name": "stderr",
     "output_type": "stream",
     "text": [
      "2021-01-04 22:35:22,585 : INFO : EPOCH 2 - PROGRESS: at 68.31% examples, 481356 words/s, in_qsize 5, out_qsize 0\n",
      "2021-01-04 22:35:23,603 : INFO : EPOCH 2 - PROGRESS: at 72.21% examples, 481986 words/s, in_qsize 5, out_qsize 0\n",
      "2021-01-04 22:35:24,615 : INFO : EPOCH 2 - PROGRESS: at 76.05% examples, 482347 words/s, in_qsize 6, out_qsize 0\n",
      "2021-01-04 22:35:25,628 : INFO : EPOCH 2 - PROGRESS: at 80.00% examples, 483352 words/s, in_qsize 6, out_qsize 0\n",
      "2021-01-04 22:35:26,659 : INFO : EPOCH 2 - PROGRESS: at 83.93% examples, 483567 words/s, in_qsize 6, out_qsize 0\n",
      "2021-01-04 22:35:27,664 : INFO : EPOCH 2 - PROGRESS: at 87.83% examples, 483998 words/s, in_qsize 6, out_qsize 0\n",
      "2021-01-04 22:35:28,669 : INFO : EPOCH 2 - PROGRESS: at 91.73% examples, 484371 words/s, in_qsize 5, out_qsize 0\n",
      "2021-01-04 22:35:29,694 : INFO : EPOCH 2 - PROGRESS: at 95.66% examples, 484650 words/s, in_qsize 5, out_qsize 0\n",
      "2021-01-04 22:35:30,707 : INFO : EPOCH 2 - PROGRESS: at 99.54% examples, 484812 words/s, in_qsize 5, out_qsize 0\n",
      "2021-01-04 22:35:30,794 : INFO : worker thread finished; awaiting finish of 2 more threads\n",
      "2021-01-04 22:35:30,812 : INFO : worker thread finished; awaiting finish of 1 more threads\n",
      "2021-01-04 22:35:30,817 : INFO : worker thread finished; awaiting finish of 0 more threads\n",
      "2021-01-04 22:35:30,818 : INFO : EPOCH - 2 : training on 16708933 raw words (12850129 effective words) took 26.5s, 484925 effective words/s\n",
      "2021-01-04 22:35:31,843 : INFO : EPOCH 3 - PROGRESS: at 3.82% examples, 493332 words/s, in_qsize 5, out_qsize 0\n",
      "2021-01-04 22:35:32,852 : INFO : EPOCH 3 - PROGRESS: at 7.65% examples, 492102 words/s, in_qsize 5, out_qsize 0\n",
      "2021-01-04 22:35:33,859 : INFO : EPOCH 3 - PROGRESS: at 11.52% examples, 496700 words/s, in_qsize 5, out_qsize 0\n",
      "2021-01-04 22:35:34,865 : INFO : EPOCH 3 - PROGRESS: at 15.45% examples, 497407 words/s, in_qsize 5, out_qsize 0\n",
      "2021-01-04 22:35:35,873 : INFO : EPOCH 3 - PROGRESS: at 19.34% examples, 496058 words/s, in_qsize 5, out_qsize 0\n",
      "2021-01-04 22:35:36,887 : INFO : EPOCH 3 - PROGRESS: at 23.17% examples, 494678 words/s, in_qsize 5, out_qsize 0\n",
      "2021-01-04 22:35:37,893 : INFO : EPOCH 3 - PROGRESS: at 27.00% examples, 491046 words/s, in_qsize 6, out_qsize 0\n",
      "2021-01-04 22:35:38,897 : INFO : EPOCH 3 - PROGRESS: at 30.83% examples, 491325 words/s, in_qsize 6, out_qsize 0\n",
      "2021-01-04 22:35:39,900 : INFO : EPOCH 3 - PROGRESS: at 34.78% examples, 493172 words/s, in_qsize 5, out_qsize 0\n",
      "2021-01-04 22:35:40,900 : INFO : EPOCH 3 - PROGRESS: at 38.59% examples, 493201 words/s, in_qsize 5, out_qsize 0\n",
      "2021-01-04 22:35:41,901 : INFO : EPOCH 3 - PROGRESS: at 42.44% examples, 492686 words/s, in_qsize 5, out_qsize 0\n",
      "2021-01-04 22:35:42,910 : INFO : EPOCH 3 - PROGRESS: at 46.17% examples, 491233 words/s, in_qsize 6, out_qsize 0\n",
      "2021-01-04 22:35:43,911 : INFO : EPOCH 3 - PROGRESS: at 50.02% examples, 491574 words/s, in_qsize 5, out_qsize 0\n",
      "2021-01-04 22:35:44,928 : INFO : EPOCH 3 - PROGRESS: at 53.85% examples, 490701 words/s, in_qsize 5, out_qsize 0\n",
      "2021-01-04 22:35:45,950 : INFO : EPOCH 3 - PROGRESS: at 57.76% examples, 491315 words/s, in_qsize 5, out_qsize 0\n",
      "2021-01-04 22:35:46,959 : INFO : EPOCH 3 - PROGRESS: at 61.66% examples, 491716 words/s, in_qsize 6, out_qsize 0\n",
      "2021-01-04 22:35:47,969 : INFO : EPOCH 3 - PROGRESS: at 65.53% examples, 492022 words/s, in_qsize 5, out_qsize 0\n",
      "2021-01-04 22:35:48,972 : INFO : EPOCH 3 - PROGRESS: at 69.38% examples, 492083 words/s, in_qsize 5, out_qsize 1\n",
      "2021-01-04 22:35:49,992 : INFO : EPOCH 3 - PROGRESS: at 73.30% examples, 492538 words/s, in_qsize 5, out_qsize 0\n",
      "2021-01-04 22:35:51,002 : INFO : EPOCH 3 - PROGRESS: at 77.21% examples, 492728 words/s, in_qsize 5, out_qsize 0\n",
      "2021-01-04 22:35:52,026 : INFO : EPOCH 3 - PROGRESS: at 81.11% examples, 492667 words/s, in_qsize 5, out_qsize 0\n",
      "2021-01-04 22:35:53,044 : INFO : EPOCH 3 - PROGRESS: at 85.06% examples, 492376 words/s, in_qsize 5, out_qsize 0\n",
      "2021-01-04 22:35:54,050 : INFO : EPOCH 3 - PROGRESS: at 88.91% examples, 492428 words/s, in_qsize 6, out_qsize 0\n",
      "2021-01-04 22:35:55,060 : INFO : EPOCH 3 - PROGRESS: at 92.81% examples, 492372 words/s, in_qsize 5, out_qsize 0\n",
      "2021-01-04 22:35:56,071 : INFO : EPOCH 3 - PROGRESS: at 96.75% examples, 492575 words/s, in_qsize 5, out_qsize 0\n",
      "2021-01-04 22:35:56,883 : INFO : worker thread finished; awaiting finish of 2 more threads\n",
      "2021-01-04 22:35:56,889 : INFO : worker thread finished; awaiting finish of 1 more threads\n",
      "2021-01-04 22:35:56,901 : INFO : worker thread finished; awaiting finish of 0 more threads\n",
      "2021-01-04 22:35:56,902 : INFO : EPOCH - 3 : training on 16708933 raw words (12850738 effective words) took 26.1s, 492776 effective words/s\n",
      "2021-01-04 22:35:57,912 : INFO : EPOCH 4 - PROGRESS: at 3.77% examples, 492749 words/s, in_qsize 5, out_qsize 0\n",
      "2021-01-04 22:35:58,931 : INFO : EPOCH 4 - PROGRESS: at 7.65% examples, 492994 words/s, in_qsize 6, out_qsize 0\n",
      "2021-01-04 22:35:59,931 : INFO : EPOCH 4 - PROGRESS: at 11.46% examples, 495731 words/s, in_qsize 6, out_qsize 0\n",
      "2021-01-04 22:36:00,933 : INFO : EPOCH 4 - PROGRESS: at 15.21% examples, 491645 words/s, in_qsize 6, out_qsize 0\n",
      "2021-01-04 22:36:01,954 : INFO : EPOCH 4 - PROGRESS: at 19.08% examples, 488692 words/s, in_qsize 5, out_qsize 0\n",
      "2021-01-04 22:36:02,959 : INFO : EPOCH 4 - PROGRESS: at 22.58% examples, 482936 words/s, in_qsize 5, out_qsize 0\n",
      "2021-01-04 22:36:03,972 : INFO : EPOCH 4 - PROGRESS: at 26.45% examples, 481518 words/s, in_qsize 5, out_qsize 0\n",
      "2021-01-04 22:36:04,979 : INFO : EPOCH 4 - PROGRESS: at 30.16% examples, 480093 words/s, in_qsize 5, out_qsize 0\n",
      "2021-01-04 22:36:05,980 : INFO : EPOCH 4 - PROGRESS: at 34.01% examples, 482408 words/s, in_qsize 5, out_qsize 0\n",
      "2021-01-04 22:36:06,989 : INFO : EPOCH 4 - PROGRESS: at 37.69% examples, 481589 words/s, in_qsize 5, out_qsize 0\n",
      "2021-01-04 22:36:07,996 : INFO : EPOCH 4 - PROGRESS: at 41.53% examples, 481789 words/s, in_qsize 6, out_qsize 0\n",
      "2021-01-04 22:36:09,011 : INFO : EPOCH 4 - PROGRESS: at 45.40% examples, 482321 words/s, in_qsize 6, out_qsize 0\n",
      "2021-01-04 22:36:10,018 : INFO : EPOCH 4 - PROGRESS: at 49.30% examples, 483657 words/s, in_qsize 5, out_qsize 0\n",
      "2021-01-04 22:36:11,021 : INFO : EPOCH 4 - PROGRESS: at 53.23% examples, 484810 words/s, in_qsize 5, out_qsize 0\n",
      "2021-01-04 22:36:12,028 : INFO : EPOCH 4 - PROGRESS: at 57.11% examples, 485333 words/s, in_qsize 5, out_qsize 0\n",
      "2021-01-04 22:36:13,035 : INFO : EPOCH 4 - PROGRESS: at 60.95% examples, 486220 words/s, in_qsize 5, out_qsize 0\n",
      "2021-01-04 22:36:14,055 : INFO : EPOCH 4 - PROGRESS: at 64.81% examples, 486573 words/s, in_qsize 5, out_qsize 0\n",
      "2021-01-04 22:36:15,068 : INFO : EPOCH 4 - PROGRESS: at 68.72% examples, 487068 words/s, in_qsize 5, out_qsize 0\n",
      "2021-01-04 22:36:16,091 : INFO : EPOCH 4 - PROGRESS: at 72.21% examples, 484506 words/s, in_qsize 6, out_qsize 0\n",
      "2021-01-04 22:36:17,099 : INFO : EPOCH 4 - PROGRESS: at 75.68% examples, 482548 words/s, in_qsize 6, out_qsize 0\n",
      "2021-01-04 22:36:18,116 : INFO : EPOCH 4 - PROGRESS: at 79.51% examples, 482755 words/s, in_qsize 5, out_qsize 0\n",
      "2021-01-04 22:36:19,125 : INFO : EPOCH 4 - PROGRESS: at 83.45% examples, 483455 words/s, in_qsize 5, out_qsize 0\n",
      "2021-01-04 22:36:20,126 : INFO : EPOCH 4 - PROGRESS: at 87.28% examples, 483614 words/s, in_qsize 5, out_qsize 0\n",
      "2021-01-04 22:36:21,139 : INFO : EPOCH 4 - PROGRESS: at 91.22% examples, 483864 words/s, in_qsize 6, out_qsize 0\n",
      "2021-01-04 22:36:22,160 : INFO : EPOCH 4 - PROGRESS: at 95.12% examples, 484221 words/s, in_qsize 5, out_qsize 0\n",
      "2021-01-04 22:36:23,162 : INFO : EPOCH 4 - PROGRESS: at 99.00% examples, 484593 words/s, in_qsize 6, out_qsize 0\n",
      "2021-01-04 22:36:23,401 : INFO : worker thread finished; awaiting finish of 2 more threads\n",
      "2021-01-04 22:36:23,405 : INFO : worker thread finished; awaiting finish of 1 more threads\n",
      "2021-01-04 22:36:23,415 : INFO : worker thread finished; awaiting finish of 0 more threads\n",
      "2021-01-04 22:36:23,416 : INFO : EPOCH - 4 : training on 16708933 raw words (12849246 effective words) took 26.5s, 484702 effective words/s\n",
      "2021-01-04 22:36:24,434 : INFO : EPOCH 5 - PROGRESS: at 3.77% examples, 491017 words/s, in_qsize 5, out_qsize 0\n",
      "2021-01-04 22:36:25,441 : INFO : EPOCH 5 - PROGRESS: at 7.59% examples, 491482 words/s, in_qsize 5, out_qsize 0\n"
     ]
    },
    {
     "name": "stderr",
     "output_type": "stream",
     "text": [
      "2021-01-04 22:36:26,453 : INFO : EPOCH 5 - PROGRESS: at 11.46% examples, 495537 words/s, in_qsize 5, out_qsize 0\n",
      "2021-01-04 22:36:27,455 : INFO : EPOCH 5 - PROGRESS: at 15.39% examples, 497068 words/s, in_qsize 6, out_qsize 0\n",
      "2021-01-04 22:36:28,468 : INFO : EPOCH 5 - PROGRESS: at 19.34% examples, 496904 words/s, in_qsize 6, out_qsize 0\n",
      "2021-01-04 22:36:29,472 : INFO : EPOCH 5 - PROGRESS: at 23.17% examples, 496198 words/s, in_qsize 5, out_qsize 0\n",
      "2021-01-04 22:36:30,473 : INFO : EPOCH 5 - PROGRESS: at 27.17% examples, 495899 words/s, in_qsize 5, out_qsize 0\n",
      "2021-01-04 22:36:31,474 : INFO : EPOCH 5 - PROGRESS: at 31.00% examples, 495836 words/s, in_qsize 6, out_qsize 0\n",
      "2021-01-04 22:36:32,492 : INFO : EPOCH 5 - PROGRESS: at 34.84% examples, 494721 words/s, in_qsize 5, out_qsize 0\n",
      "2021-01-04 22:36:33,521 : INFO : EPOCH 5 - PROGRESS: at 38.83% examples, 495502 words/s, in_qsize 5, out_qsize 0\n",
      "2021-01-04 22:36:34,533 : INFO : EPOCH 5 - PROGRESS: at 42.76% examples, 494896 words/s, in_qsize 5, out_qsize 0\n",
      "2021-01-04 22:36:35,548 : INFO : EPOCH 5 - PROGRESS: at 46.69% examples, 495539 words/s, in_qsize 5, out_qsize 0\n",
      "2021-01-04 22:36:36,559 : INFO : EPOCH 5 - PROGRESS: at 50.62% examples, 495686 words/s, in_qsize 6, out_qsize 0\n",
      "2021-01-04 22:36:37,572 : INFO : EPOCH 5 - PROGRESS: at 54.54% examples, 495768 words/s, in_qsize 5, out_qsize 0\n",
      "2021-01-04 22:36:38,605 : INFO : EPOCH 5 - PROGRESS: at 58.46% examples, 495704 words/s, in_qsize 6, out_qsize 0\n",
      "2021-01-04 22:36:39,607 : INFO : EPOCH 5 - PROGRESS: at 62.37% examples, 496041 words/s, in_qsize 5, out_qsize 0\n",
      "2021-01-04 22:36:40,615 : INFO : EPOCH 5 - PROGRESS: at 66.25% examples, 496146 words/s, in_qsize 5, out_qsize 0\n",
      "2021-01-04 22:36:41,620 : INFO : EPOCH 5 - PROGRESS: at 70.18% examples, 496318 words/s, in_qsize 5, out_qsize 0\n",
      "2021-01-04 22:36:42,639 : INFO : EPOCH 5 - PROGRESS: at 73.97% examples, 496160 words/s, in_qsize 5, out_qsize 0\n",
      "2021-01-04 22:36:43,644 : INFO : EPOCH 5 - PROGRESS: at 77.97% examples, 496663 words/s, in_qsize 5, out_qsize 0\n",
      "2021-01-04 22:36:44,655 : INFO : EPOCH 5 - PROGRESS: at 81.84% examples, 496402 words/s, in_qsize 6, out_qsize 0\n",
      "2021-01-04 22:36:45,657 : INFO : EPOCH 5 - PROGRESS: at 85.76% examples, 496311 words/s, in_qsize 6, out_qsize 0\n",
      "2021-01-04 22:36:46,673 : INFO : EPOCH 5 - PROGRESS: at 89.64% examples, 495967 words/s, in_qsize 5, out_qsize 0\n",
      "2021-01-04 22:36:47,680 : INFO : EPOCH 5 - PROGRESS: at 93.58% examples, 496093 words/s, in_qsize 5, out_qsize 0\n",
      "2021-01-04 22:36:48,684 : INFO : EPOCH 5 - PROGRESS: at 97.46% examples, 495990 words/s, in_qsize 5, out_qsize 0\n",
      "2021-01-04 22:36:49,314 : INFO : worker thread finished; awaiting finish of 2 more threads\n",
      "2021-01-04 22:36:49,322 : INFO : worker thread finished; awaiting finish of 1 more threads\n",
      "2021-01-04 22:36:49,329 : INFO : worker thread finished; awaiting finish of 0 more threads\n",
      "2021-01-04 22:36:49,331 : INFO : EPOCH - 5 : training on 16708933 raw words (12851600 effective words) took 25.9s, 496076 effective words/s\n",
      "2021-01-04 22:36:50,350 : INFO : EPOCH 6 - PROGRESS: at 3.84% examples, 496307 words/s, in_qsize 5, out_qsize 0\n",
      "2021-01-04 22:36:51,350 : INFO : EPOCH 6 - PROGRESS: at 7.71% examples, 499487 words/s, in_qsize 6, out_qsize 0\n",
      "2021-01-04 22:36:52,367 : INFO : EPOCH 6 - PROGRESS: at 11.58% examples, 500045 words/s, in_qsize 5, out_qsize 0\n",
      "2021-01-04 22:36:53,376 : INFO : EPOCH 6 - PROGRESS: at 15.51% examples, 499666 words/s, in_qsize 5, out_qsize 0\n",
      "2021-01-04 22:36:54,378 : INFO : EPOCH 6 - PROGRESS: at 19.38% examples, 498458 words/s, in_qsize 5, out_qsize 0\n",
      "2021-01-04 22:36:55,381 : INFO : EPOCH 6 - PROGRESS: at 23.23% examples, 497540 words/s, in_qsize 5, out_qsize 0\n",
      "2021-01-04 22:36:56,393 : INFO : EPOCH 6 - PROGRESS: at 27.24% examples, 496404 words/s, in_qsize 6, out_qsize 0\n",
      "2021-01-04 22:36:57,408 : INFO : EPOCH 6 - PROGRESS: at 31.19% examples, 497269 words/s, in_qsize 5, out_qsize 0\n",
      "2021-01-04 22:36:58,413 : INFO : EPOCH 6 - PROGRESS: at 35.02% examples, 496655 words/s, in_qsize 6, out_qsize 0\n",
      "2021-01-04 22:36:59,452 : INFO : EPOCH 6 - PROGRESS: at 39.00% examples, 496689 words/s, in_qsize 5, out_qsize 0\n",
      "2021-01-04 22:37:00,477 : INFO : EPOCH 6 - PROGRESS: at 42.94% examples, 495339 words/s, in_qsize 5, out_qsize 0\n",
      "2021-01-04 22:37:01,487 : INFO : EPOCH 6 - PROGRESS: at 46.88% examples, 496165 words/s, in_qsize 5, out_qsize 0\n",
      "2021-01-04 22:37:02,492 : INFO : EPOCH 6 - PROGRESS: at 50.69% examples, 495302 words/s, in_qsize 5, out_qsize 0\n",
      "2021-01-04 22:37:03,504 : INFO : EPOCH 6 - PROGRESS: at 54.54% examples, 494927 words/s, in_qsize 6, out_qsize 0\n",
      "2021-01-04 22:37:04,529 : INFO : EPOCH 6 - PROGRESS: at 58.46% examples, 495137 words/s, in_qsize 5, out_qsize 0\n",
      "2021-01-04 22:37:05,531 : INFO : EPOCH 6 - PROGRESS: at 62.37% examples, 495552 words/s, in_qsize 6, out_qsize 0\n",
      "2021-01-04 22:37:06,548 : INFO : EPOCH 6 - PROGRESS: at 66.00% examples, 493676 words/s, in_qsize 5, out_qsize 0\n",
      "2021-01-04 22:37:07,552 : INFO : EPOCH 6 - PROGRESS: at 69.80% examples, 493155 words/s, in_qsize 5, out_qsize 0\n",
      "2021-01-04 22:37:08,552 : INFO : EPOCH 6 - PROGRESS: at 73.45% examples, 492469 words/s, in_qsize 5, out_qsize 0\n",
      "2021-01-04 22:37:09,577 : INFO : EPOCH 6 - PROGRESS: at 77.32% examples, 491916 words/s, in_qsize 5, out_qsize 0\n",
      "2021-01-04 22:37:10,595 : INFO : EPOCH 6 - PROGRESS: at 81.17% examples, 491715 words/s, in_qsize 5, out_qsize 0\n",
      "2021-01-04 22:37:11,607 : INFO : EPOCH 6 - PROGRESS: at 85.05% examples, 491276 words/s, in_qsize 5, out_qsize 1\n",
      "2021-01-04 22:37:12,614 : INFO : EPOCH 6 - PROGRESS: at 88.68% examples, 490029 words/s, in_qsize 5, out_qsize 0\n",
      "2021-01-04 22:37:13,634 : INFO : EPOCH 6 - PROGRESS: at 92.51% examples, 489552 words/s, in_qsize 5, out_qsize 0\n",
      "2021-01-04 22:37:14,636 : INFO : EPOCH 6 - PROGRESS: at 96.25% examples, 489165 words/s, in_qsize 5, out_qsize 0\n",
      "2021-01-04 22:37:15,620 : INFO : worker thread finished; awaiting finish of 2 more threads\n",
      "2021-01-04 22:37:15,636 : INFO : EPOCH 6 - PROGRESS: at 99.94% examples, 488368 words/s, in_qsize 1, out_qsize 1\n",
      "2021-01-04 22:37:15,638 : INFO : worker thread finished; awaiting finish of 1 more threads\n",
      "2021-01-04 22:37:15,642 : INFO : worker thread finished; awaiting finish of 0 more threads\n",
      "2021-01-04 22:37:15,643 : INFO : EPOCH - 6 : training on 16708933 raw words (12851476 effective words) took 26.3s, 488520 effective words/s\n",
      "2021-01-04 22:37:16,665 : INFO : EPOCH 7 - PROGRESS: at 3.82% examples, 494598 words/s, in_qsize 6, out_qsize 0\n",
      "2021-01-04 22:37:17,682 : INFO : EPOCH 7 - PROGRESS: at 7.59% examples, 487230 words/s, in_qsize 5, out_qsize 0\n",
      "2021-01-04 22:37:18,696 : INFO : EPOCH 7 - PROGRESS: at 11.46% examples, 492432 words/s, in_qsize 5, out_qsize 0\n",
      "2021-01-04 22:37:19,700 : INFO : EPOCH 7 - PROGRESS: at 15.34% examples, 492653 words/s, in_qsize 5, out_qsize 0\n",
      "2021-01-04 22:37:20,715 : INFO : EPOCH 7 - PROGRESS: at 19.29% examples, 493167 words/s, in_qsize 5, out_qsize 1\n",
      "2021-01-04 22:37:21,737 : INFO : EPOCH 7 - PROGRESS: at 23.23% examples, 493971 words/s, in_qsize 5, out_qsize 0\n",
      "2021-01-04 22:37:22,750 : INFO : EPOCH 7 - PROGRESS: at 27.24% examples, 493291 words/s, in_qsize 6, out_qsize 0\n",
      "2021-01-04 22:37:23,765 : INFO : EPOCH 7 - PROGRESS: at 31.19% examples, 494535 words/s, in_qsize 5, out_qsize 0\n",
      "2021-01-04 22:37:24,766 : INFO : EPOCH 7 - PROGRESS: at 35.07% examples, 495231 words/s, in_qsize 5, out_qsize 0\n",
      "2021-01-04 22:37:25,766 : INFO : EPOCH 7 - PROGRESS: at 38.83% examples, 494303 words/s, in_qsize 5, out_qsize 0\n",
      "2021-01-04 22:37:26,766 : INFO : EPOCH 7 - PROGRESS: at 42.82% examples, 495054 words/s, in_qsize 5, out_qsize 0\n",
      "2021-01-04 22:37:27,785 : INFO : EPOCH 7 - PROGRESS: at 46.69% examples, 494884 words/s, in_qsize 6, out_qsize 0\n",
      "2021-01-04 22:37:28,790 : INFO : EPOCH 7 - PROGRESS: at 50.56% examples, 494749 words/s, in_qsize 5, out_qsize 0\n",
      "2021-01-04 22:37:29,804 : INFO : EPOCH 7 - PROGRESS: at 54.54% examples, 495399 words/s, in_qsize 5, out_qsize 0\n",
      "2021-01-04 22:37:30,811 : INFO : EPOCH 7 - PROGRESS: at 58.40% examples, 495695 words/s, in_qsize 5, out_qsize 0\n",
      "2021-01-04 22:37:31,823 : INFO : EPOCH 7 - PROGRESS: at 62.30% examples, 495728 words/s, in_qsize 5, out_qsize 0\n",
      "2021-01-04 22:37:32,849 : INFO : EPOCH 7 - PROGRESS: at 66.18% examples, 495306 words/s, in_qsize 6, out_qsize 0\n"
     ]
    },
    {
     "name": "stderr",
     "output_type": "stream",
     "text": [
      "2021-01-04 22:37:33,852 : INFO : EPOCH 7 - PROGRESS: at 70.12% examples, 495597 words/s, in_qsize 5, out_qsize 0\n",
      "2021-01-04 22:37:34,853 : INFO : EPOCH 7 - PROGRESS: at 73.91% examples, 495945 words/s, in_qsize 6, out_qsize 0\n",
      "2021-01-04 22:37:35,879 : INFO : EPOCH 7 - PROGRESS: at 77.84% examples, 495593 words/s, in_qsize 5, out_qsize 0\n",
      "2021-01-04 22:37:36,880 : INFO : EPOCH 7 - PROGRESS: at 81.77% examples, 495943 words/s, in_qsize 5, out_qsize 0\n",
      "2021-01-04 22:37:37,890 : INFO : EPOCH 7 - PROGRESS: at 85.69% examples, 495675 words/s, in_qsize 5, out_qsize 0\n",
      "2021-01-04 22:37:38,894 : INFO : EPOCH 7 - PROGRESS: at 89.59% examples, 495616 words/s, in_qsize 6, out_qsize 0\n",
      "2021-01-04 22:37:39,900 : INFO : EPOCH 7 - PROGRESS: at 93.58% examples, 496146 words/s, in_qsize 5, out_qsize 0\n",
      "2021-01-04 22:37:40,913 : INFO : EPOCH 7 - PROGRESS: at 97.30% examples, 494959 words/s, in_qsize 5, out_qsize 0\n",
      "2021-01-04 22:37:41,585 : INFO : worker thread finished; awaiting finish of 2 more threads\n",
      "2021-01-04 22:37:41,588 : INFO : worker thread finished; awaiting finish of 1 more threads\n",
      "2021-01-04 22:37:41,589 : INFO : worker thread finished; awaiting finish of 0 more threads\n",
      "2021-01-04 22:37:41,591 : INFO : EPOCH - 7 : training on 16708933 raw words (12850925 effective words) took 25.9s, 495346 effective words/s\n",
      "2021-01-04 22:37:42,616 : INFO : EPOCH 8 - PROGRESS: at 3.84% examples, 494117 words/s, in_qsize 5, out_qsize 0\n",
      "2021-01-04 22:37:43,636 : INFO : EPOCH 8 - PROGRESS: at 7.77% examples, 497197 words/s, in_qsize 5, out_qsize 0\n",
      "2021-01-04 22:37:44,652 : INFO : EPOCH 8 - PROGRESS: at 11.64% examples, 498733 words/s, in_qsize 5, out_qsize 0\n",
      "2021-01-04 22:37:45,659 : INFO : EPOCH 8 - PROGRESS: at 15.51% examples, 496927 words/s, in_qsize 5, out_qsize 0\n",
      "2021-01-04 22:37:46,660 : INFO : EPOCH 8 - PROGRESS: at 19.45% examples, 497846 words/s, in_qsize 5, out_qsize 0\n",
      "2021-01-04 22:37:47,671 : INFO : EPOCH 8 - PROGRESS: at 23.36% examples, 497605 words/s, in_qsize 6, out_qsize 0\n",
      "2021-01-04 22:37:48,675 : INFO : EPOCH 8 - PROGRESS: at 27.30% examples, 495919 words/s, in_qsize 6, out_qsize 0\n",
      "2021-01-04 22:37:49,696 : INFO : EPOCH 8 - PROGRESS: at 31.17% examples, 495570 words/s, in_qsize 5, out_qsize 0\n",
      "2021-01-04 22:37:50,701 : INFO : EPOCH 8 - PROGRESS: at 35.13% examples, 496770 words/s, in_qsize 5, out_qsize 0\n",
      "2021-01-04 22:37:51,724 : INFO : EPOCH 8 - PROGRESS: at 39.00% examples, 496092 words/s, in_qsize 5, out_qsize 0\n",
      "2021-01-04 22:37:52,762 : INFO : EPOCH 8 - PROGRESS: at 42.89% examples, 493598 words/s, in_qsize 6, out_qsize 0\n",
      "2021-01-04 22:37:53,795 : INFO : EPOCH 8 - PROGRESS: at 46.06% examples, 485487 words/s, in_qsize 5, out_qsize 0\n",
      "2021-01-04 22:37:54,798 : INFO : EPOCH 8 - PROGRESS: at 49.17% examples, 479231 words/s, in_qsize 6, out_qsize 0\n",
      "2021-01-04 22:37:55,841 : INFO : EPOCH 8 - PROGRESS: at 52.12% examples, 470320 words/s, in_qsize 5, out_qsize 0\n",
      "2021-01-04 22:37:56,842 : INFO : EPOCH 8 - PROGRESS: at 55.08% examples, 464484 words/s, in_qsize 6, out_qsize 0\n",
      "2021-01-04 22:37:57,852 : INFO : EPOCH 8 - PROGRESS: at 58.05% examples, 459504 words/s, in_qsize 5, out_qsize 0\n",
      "2021-01-04 22:37:58,865 : INFO : EPOCH 8 - PROGRESS: at 61.60% examples, 459031 words/s, in_qsize 6, out_qsize 0\n",
      "2021-01-04 22:37:59,876 : INFO : EPOCH 8 - PROGRESS: at 65.12% examples, 458605 words/s, in_qsize 6, out_qsize 0\n",
      "2021-01-04 22:38:00,887 : INFO : EPOCH 8 - PROGRESS: at 68.91% examples, 459807 words/s, in_qsize 5, out_qsize 0\n",
      "2021-01-04 22:38:01,893 : INFO : EPOCH 8 - PROGRESS: at 72.79% examples, 461752 words/s, in_qsize 5, out_qsize 0\n",
      "2021-01-04 22:38:02,919 : INFO : EPOCH 8 - PROGRESS: at 76.69% examples, 463086 words/s, in_qsize 5, out_qsize 0\n",
      "2021-01-04 22:38:03,933 : INFO : EPOCH 8 - PROGRESS: at 80.57% examples, 464576 words/s, in_qsize 6, out_qsize 0\n",
      "2021-01-04 22:38:04,942 : INFO : EPOCH 8 - PROGRESS: at 84.48% examples, 465730 words/s, in_qsize 6, out_qsize 0\n",
      "2021-01-04 22:38:05,952 : INFO : EPOCH 8 - PROGRESS: at 88.38% examples, 466772 words/s, in_qsize 6, out_qsize 0\n",
      "2021-01-04 22:38:06,964 : INFO : EPOCH 8 - PROGRESS: at 91.91% examples, 465845 words/s, in_qsize 5, out_qsize 0\n",
      "2021-01-04 22:38:07,967 : INFO : EPOCH 8 - PROGRESS: at 95.81% examples, 467223 words/s, in_qsize 6, out_qsize 0\n",
      "2021-01-04 22:38:08,968 : INFO : EPOCH 8 - PROGRESS: at 99.77% examples, 468528 words/s, in_qsize 4, out_qsize 0\n",
      "2021-01-04 22:38:09,016 : INFO : worker thread finished; awaiting finish of 2 more threads\n",
      "2021-01-04 22:38:09,018 : INFO : worker thread finished; awaiting finish of 1 more threads\n",
      "2021-01-04 22:38:09,030 : INFO : worker thread finished; awaiting finish of 0 more threads\n",
      "2021-01-04 22:38:09,032 : INFO : EPOCH - 8 : training on 16708933 raw words (12850400 effective words) took 27.4s, 468393 effective words/s\n",
      "2021-01-04 22:38:10,057 : INFO : EPOCH 9 - PROGRESS: at 3.82% examples, 494208 words/s, in_qsize 5, out_qsize 1\n",
      "2021-01-04 22:38:11,059 : INFO : EPOCH 9 - PROGRESS: at 7.54% examples, 486547 words/s, in_qsize 6, out_qsize 0\n",
      "2021-01-04 22:38:12,077 : INFO : EPOCH 9 - PROGRESS: at 11.40% examples, 491251 words/s, in_qsize 5, out_qsize 0\n",
      "2021-01-04 22:38:13,099 : INFO : EPOCH 9 - PROGRESS: at 15.39% examples, 493427 words/s, in_qsize 5, out_qsize 0\n",
      "2021-01-04 22:38:14,112 : INFO : EPOCH 9 - PROGRESS: at 19.18% examples, 489393 words/s, in_qsize 5, out_qsize 0\n",
      "2021-01-04 22:38:15,118 : INFO : EPOCH 9 - PROGRESS: at 23.12% examples, 492120 words/s, in_qsize 5, out_qsize 0\n",
      "2021-01-04 22:38:16,143 : INFO : EPOCH 9 - PROGRESS: at 27.14% examples, 490815 words/s, in_qsize 5, out_qsize 0\n",
      "2021-01-04 22:38:17,153 : INFO : EPOCH 9 - PROGRESS: at 31.00% examples, 491801 words/s, in_qsize 6, out_qsize 0\n",
      "2021-01-04 22:38:18,159 : INFO : EPOCH 9 - PROGRESS: at 34.84% examples, 491683 words/s, in_qsize 6, out_qsize 0\n",
      "2021-01-04 22:38:19,190 : INFO : EPOCH 9 - PROGRESS: at 38.82% examples, 492677 words/s, in_qsize 5, out_qsize 0\n",
      "2021-01-04 22:38:20,191 : INFO : EPOCH 9 - PROGRESS: at 42.76% examples, 492831 words/s, in_qsize 5, out_qsize 0\n",
      "2021-01-04 22:38:21,226 : INFO : EPOCH 9 - PROGRESS: at 46.45% examples, 490287 words/s, in_qsize 5, out_qsize 0\n",
      "2021-01-04 22:38:22,227 : INFO : EPOCH 9 - PROGRESS: at 49.55% examples, 483197 words/s, in_qsize 5, out_qsize 0\n",
      "2021-01-04 22:38:23,233 : INFO : EPOCH 9 - PROGRESS: at 52.77% examples, 477885 words/s, in_qsize 5, out_qsize 0\n",
      "2021-01-04 22:38:24,249 : INFO : EPOCH 9 - PROGRESS: at 55.89% examples, 472510 words/s, in_qsize 5, out_qsize 0\n",
      "2021-01-04 22:38:25,254 : INFO : EPOCH 9 - PROGRESS: at 58.98% examples, 468131 words/s, in_qsize 5, out_qsize 0\n",
      "2021-01-04 22:38:26,268 : INFO : EPOCH 9 - PROGRESS: at 62.12% examples, 464014 words/s, in_qsize 5, out_qsize 0\n",
      "2021-01-04 22:38:27,294 : INFO : EPOCH 9 - PROGRESS: at 65.30% examples, 460385 words/s, in_qsize 5, out_qsize 0\n",
      "2021-01-04 22:38:28,306 : INFO : EPOCH 9 - PROGRESS: at 68.38% examples, 456768 words/s, in_qsize 5, out_qsize 0\n",
      "2021-01-04 22:38:29,335 : INFO : EPOCH 9 - PROGRESS: at 71.52% examples, 453505 words/s, in_qsize 6, out_qsize 0\n",
      "2021-01-04 22:38:30,336 : INFO : EPOCH 9 - PROGRESS: at 74.62% examples, 451458 words/s, in_qsize 5, out_qsize 0\n",
      "2021-01-04 22:38:31,344 : INFO : EPOCH 9 - PROGRESS: at 78.34% examples, 452203 words/s, in_qsize 6, out_qsize 0\n",
      "2021-01-04 22:38:32,359 : INFO : EPOCH 9 - PROGRESS: at 82.21% examples, 453777 words/s, in_qsize 6, out_qsize 0\n",
      "2021-01-04 22:38:33,367 : INFO : EPOCH 9 - PROGRESS: at 86.12% examples, 455314 words/s, in_qsize 6, out_qsize 0\n",
      "2021-01-04 22:38:34,374 : INFO : EPOCH 9 - PROGRESS: at 90.01% examples, 456811 words/s, in_qsize 5, out_qsize 0\n",
      "2021-01-04 22:38:35,377 : INFO : EPOCH 9 - PROGRESS: at 93.95% examples, 458547 words/s, in_qsize 5, out_qsize 0\n",
      "2021-01-04 22:38:36,385 : INFO : EPOCH 9 - PROGRESS: at 97.82% examples, 459765 words/s, in_qsize 6, out_qsize 0\n",
      "2021-01-04 22:38:36,928 : INFO : worker thread finished; awaiting finish of 2 more threads\n",
      "2021-01-04 22:38:36,931 : INFO : worker thread finished; awaiting finish of 1 more threads\n",
      "2021-01-04 22:38:36,936 : INFO : worker thread finished; awaiting finish of 0 more threads\n",
      "2021-01-04 22:38:36,937 : INFO : EPOCH - 9 : training on 16708933 raw words (12850975 effective words) took 27.9s, 460624 effective words/s\n"
     ]
    },
    {
     "name": "stderr",
     "output_type": "stream",
     "text": [
      "2021-01-04 22:38:37,956 : INFO : EPOCH 10 - PROGRESS: at 3.84% examples, 496295 words/s, in_qsize 6, out_qsize 0\n",
      "2021-01-04 22:38:38,957 : INFO : EPOCH 10 - PROGRESS: at 7.65% examples, 495298 words/s, in_qsize 5, out_qsize 0\n",
      "2021-01-04 22:38:39,970 : INFO : EPOCH 10 - PROGRESS: at 11.52% examples, 498259 words/s, in_qsize 5, out_qsize 0\n",
      "2021-01-04 22:38:40,971 : INFO : EPOCH 10 - PROGRESS: at 15.39% examples, 497400 words/s, in_qsize 5, out_qsize 0\n",
      "2021-01-04 22:38:41,977 : INFO : EPOCH 10 - PROGRESS: at 19.34% examples, 497792 words/s, in_qsize 5, out_qsize 0\n",
      "2021-01-04 22:38:42,978 : INFO : EPOCH 10 - PROGRESS: at 23.17% examples, 497120 words/s, in_qsize 6, out_qsize 0\n",
      "2021-01-04 22:38:43,979 : INFO : EPOCH 10 - PROGRESS: at 27.17% examples, 496826 words/s, in_qsize 5, out_qsize 0\n",
      "2021-01-04 22:38:45,005 : INFO : EPOCH 10 - PROGRESS: at 31.06% examples, 496036 words/s, in_qsize 5, out_qsize 0\n",
      "2021-01-04 22:38:46,029 : INFO : EPOCH 10 - PROGRESS: at 35.02% examples, 496186 words/s, in_qsize 5, out_qsize 0\n",
      "2021-01-04 22:38:47,031 : INFO : EPOCH 10 - PROGRESS: at 38.39% examples, 490525 words/s, in_qsize 5, out_qsize 0\n",
      "2021-01-04 22:38:48,051 : INFO : EPOCH 10 - PROGRESS: at 41.76% examples, 483831 words/s, in_qsize 5, out_qsize 0\n",
      "2021-01-04 22:38:49,052 : INFO : EPOCH 10 - PROGRESS: at 44.83% examples, 476528 words/s, in_qsize 5, out_qsize 0\n",
      "2021-01-04 22:38:50,069 : INFO : EPOCH 10 - PROGRESS: at 48.30% examples, 473312 words/s, in_qsize 6, out_qsize 0\n",
      "2021-01-04 22:38:51,078 : INFO : EPOCH 10 - PROGRESS: at 52.18% examples, 474498 words/s, in_qsize 6, out_qsize 0\n",
      "2021-01-04 22:38:52,097 : INFO : EPOCH 10 - PROGRESS: at 55.57% examples, 471304 words/s, in_qsize 6, out_qsize 0\n",
      "2021-01-04 22:38:53,109 : INFO : EPOCH 10 - PROGRESS: at 58.92% examples, 469144 words/s, in_qsize 5, out_qsize 0\n",
      "2021-01-04 22:38:54,127 : INFO : EPOCH 10 - PROGRESS: at 62.66% examples, 469280 words/s, in_qsize 6, out_qsize 0\n",
      "2021-01-04 22:38:55,147 : INFO : EPOCH 10 - PROGRESS: at 66.44% examples, 469748 words/s, in_qsize 5, out_qsize 0\n",
      "2021-01-04 22:38:56,151 : INFO : EPOCH 10 - PROGRESS: at 70.24% examples, 470494 words/s, in_qsize 5, out_qsize 0\n",
      "2021-01-04 22:38:57,151 : INFO : EPOCH 10 - PROGRESS: at 73.62% examples, 469476 words/s, in_qsize 5, out_qsize 0\n",
      "2021-01-04 22:38:58,170 : INFO : EPOCH 10 - PROGRESS: at 77.50% examples, 470223 words/s, in_qsize 6, out_qsize 0\n",
      "2021-01-04 22:38:59,174 : INFO : EPOCH 10 - PROGRESS: at 80.99% examples, 469213 words/s, in_qsize 5, out_qsize 0\n",
      "2021-01-04 22:39:00,188 : INFO : EPOCH 10 - PROGRESS: at 84.24% examples, 466441 words/s, in_qsize 5, out_qsize 0\n",
      "2021-01-04 22:39:01,189 : INFO : EPOCH 10 - PROGRESS: at 87.47% examples, 464153 words/s, in_qsize 5, out_qsize 0\n",
      "2021-01-04 22:39:02,209 : INFO : EPOCH 10 - PROGRESS: at 91.39% examples, 465042 words/s, in_qsize 5, out_qsize 0\n",
      "2021-01-04 22:39:03,243 : INFO : EPOCH 10 - PROGRESS: at 95.17% examples, 465303 words/s, in_qsize 5, out_qsize 0\n",
      "2021-01-04 22:39:04,251 : INFO : EPOCH 10 - PROGRESS: at 99.05% examples, 466262 words/s, in_qsize 5, out_qsize 0\n",
      "2021-01-04 22:39:04,468 : INFO : worker thread finished; awaiting finish of 2 more threads\n",
      "2021-01-04 22:39:04,484 : INFO : worker thread finished; awaiting finish of 1 more threads\n",
      "2021-01-04 22:39:04,487 : INFO : worker thread finished; awaiting finish of 0 more threads\n",
      "2021-01-04 22:39:04,489 : INFO : EPOCH - 10 : training on 16708933 raw words (12850816 effective words) took 27.5s, 466512 effective words/s\n",
      "2021-01-04 22:39:04,490 : INFO : training on a 167089330 raw words (128505198 effective words) took 266.4s, 482362 effective words/s\n"
     ]
    }
   ],
   "source": [
    "model_doc2vec = gensim.models.doc2vec.Doc2Vec(vector_size=100,epochs=10)\n",
    "model_doc2vec.build_vocab(train_corpus)\n",
    "model_doc2vec.train(train_corpus, total_examples=model_doc2vec.corpus_count, epochs=model_doc2vec.epochs)\n"
   ]
  },
  {
   "cell_type": "markdown",
   "metadata": {},
   "source": [
    "### After training the model, add a new column to X_train and X_test with the inferred vector created by the Doc2vec model. \n",
    "### After all the vectors are set, create a list of train vectors and a list of test vector, in order to use these vectors in the grade prediction analysis."
   ]
  },
  {
   "cell_type": "code",
   "execution_count": 19,
   "metadata": {
    "scrolled": true
   },
   "outputs": [],
   "source": [
    "train_vecctors =[]\n",
    "test_vectors =[]\n",
    "for doc_id in range(len(train_corpus)):\n",
    "    inferred_vector = model_doc2vec.infer_vector(train_corpus[doc_id].words)\n",
    "    train_vecctors.append(inferred_vector)\n",
    "    \n",
    "for doc_id in range(len(test_corpus)):\n",
    "    inferred_vector = model_doc2vec.infer_vector(test_corpus[doc_id].words)\n",
    "    test_vectors.append(inferred_vector)"
   ]
  },
  {
   "cell_type": "code",
   "execution_count": 20,
   "metadata": {},
   "outputs": [],
   "source": [
    "X_train['Vectors'] = train_vecctors\n",
    "X_test['Vectors'] = test_vectors"
   ]
  },
  {
   "cell_type": "code",
   "execution_count": 21,
   "metadata": {},
   "outputs": [
    {
     "data": {
      "text/plain": [
       "array([-0.27159443,  0.12536049, -0.3036643 , -0.14763455, -0.38921553,\n",
       "        0.08433468, -0.06579336,  0.18446967,  0.33556804, -0.41241625,\n",
       "       -0.12268789,  0.40205684,  0.25036913,  0.1410074 , -0.60431635,\n",
       "        0.0033222 , -0.22665925,  0.24447918,  0.13024594,  0.3493662 ,\n",
       "        0.41820878, -0.1488678 , -0.12067293, -0.2247553 , -0.05109122,\n",
       "       -0.02034235, -0.32895088,  0.1661027 , -0.3596521 , -0.02406996,\n",
       "        0.57061815,  0.28435293,  0.0358665 , -0.24795325,  0.38414547,\n",
       "       -0.42528412, -0.12174651,  0.26750216, -0.11692296, -0.05154657,\n",
       "       -0.23077716, -0.09138558,  0.09192169, -0.35662195,  0.12155768,\n",
       "        0.27585772, -0.12206342,  0.08848426, -0.16079815, -0.08677471,\n",
       "        0.5612322 , -0.10100704,  0.15136541, -0.41010958, -0.24820334,\n",
       "       -0.06037109,  0.3082241 ,  0.3629483 , -0.34967867, -0.07565575,\n",
       "       -0.38243002, -0.24653739,  0.49156263, -0.26388913, -0.38377708,\n",
       "       -0.16671897, -0.05918216, -0.07354915,  0.14771928, -0.04190345,\n",
       "        0.31992593,  0.39776942,  0.1266303 ,  0.2137976 , -0.02924201,\n",
       "       -0.3239605 ,  0.09401547,  0.06542841,  0.5147821 , -0.01850712,\n",
       "        0.01059555, -0.1741969 ,  0.29321843, -0.00861665,  0.6753078 ,\n",
       "        0.4609006 ,  0.04768534, -0.31391665, -0.2144474 , -0.08010888,\n",
       "       -0.28371575,  0.15184166, -0.32096523,  0.17330852,  0.2483217 ,\n",
       "       -0.12731649,  0.8462559 , -0.14881374,  0.07713965, -0.18735082],\n",
       "      dtype=float32)"
      ]
     },
     "execution_count": 21,
     "metadata": {},
     "output_type": "execute_result"
    }
   ],
   "source": [
    "X_test['Vectors'][1]"
   ]
  },
  {
   "cell_type": "code",
   "execution_count": 22,
   "metadata": {},
   "outputs": [
    {
     "data": {
      "text/plain": [
       "5"
      ]
     },
     "execution_count": 22,
     "metadata": {},
     "output_type": "execute_result"
    }
   ],
   "source": [
    "Y_train['stars'][1]"
   ]
  },
  {
   "cell_type": "code",
   "execution_count": 23,
   "metadata": {},
   "outputs": [],
   "source": [
    "with open(dump_pickel, 'w+b') as out_file: \n",
    "    pickle.dump(X_train, out_file, pickle.HIGHEST_PROTOCOL)\n",
    "    pickle.dump(X_test, out_file, pickle.HIGHEST_PROTOCOL)\n",
    "    pickle.dump(train_vecctors, out_file, pickle.HIGHEST_PROTOCOL)\n",
    "    pickle.dump(test_vectors, out_file, pickle.HIGHEST_PROTOCOL)"
   ]
  },
  {
   "cell_type": "markdown",
   "metadata": {},
   "source": [
    "### After we have vectors to represent each review, we can use Y_tarin and Y_test to predict the grade of the review based on its vector.\n",
    "\n",
    "### I decided to use RandomForestRegressor model and DecisionTreeRegressor model to predict the grades. "
   ]
  },
  {
   "cell_type": "code",
   "execution_count": 24,
   "metadata": {},
   "outputs": [
    {
     "data": {
      "text/plain": [
       "RandomForestRegressor()"
      ]
     },
     "execution_count": 24,
     "metadata": {},
     "output_type": "execute_result"
    }
   ],
   "source": [
    "rf = RandomForestRegressor(n_estimators=100)\n",
    "rf.fit(train_vecctors, Y_train['stars'])"
   ]
  },
  {
   "cell_type": "code",
   "execution_count": 25,
   "metadata": {},
   "outputs": [
    {
     "data": {
      "text/plain": [
       "DecisionTreeRegressor()"
      ]
     },
     "execution_count": 25,
     "metadata": {},
     "output_type": "execute_result"
    }
   ],
   "source": [
    "dt = DecisionTreeRegressor()\n",
    "dt.fit(train_vecctors, Y_train['stars'])"
   ]
  },
  {
   "cell_type": "code",
   "execution_count": 27,
   "metadata": {},
   "outputs": [],
   "source": [
    "rf_predictions = rf.predict(test_vectors)"
   ]
  },
  {
   "cell_type": "code",
   "execution_count": 28,
   "metadata": {},
   "outputs": [],
   "source": [
    "dt_predictions = dt.predict(test_vectors)"
   ]
  },
  {
   "cell_type": "code",
   "execution_count": 34,
   "metadata": {},
   "outputs": [
    {
     "name": "stdout",
     "output_type": "stream",
     "text": [
      "Random Forest Score: 0.43\n",
      "Decision Tree Score: -0.23\n"
     ]
    }
   ],
   "source": [
    "print('Random Forest Score: {0:2.2f}'.format(rf.score(test_vectors,Y_test['stars'])))\n",
    "print('Decision Tree Score: {0:2.2f}'.format(dt.score(test_vectors,Y_test['stars'])))"
   ]
  },
  {
   "cell_type": "markdown",
   "metadata": {},
   "source": [
    "### The prediction wasn't good enough so I decided to use LogisticRegression"
   ]
  },
  {
   "cell_type": "code",
   "execution_count": 40,
   "metadata": {},
   "outputs": [
    {
     "data": {
      "text/plain": [
       "LogisticRegression(C=100000.0, n_jobs=1)"
      ]
     },
     "execution_count": 40,
     "metadata": {},
     "output_type": "execute_result"
    }
   ],
   "source": [
    "lg = LogisticRegression(n_jobs=1, C=1e5)\n",
    "lg.fit(train_vecctors, Y_train['stars'])\n",
    "\n"
   ]
  },
  {
   "cell_type": "code",
   "execution_count": 100,
   "metadata": {},
   "outputs": [
    {
     "name": "stdout",
     "output_type": "stream",
     "text": [
      "Testing accuracy 0.5825661047412962\n"
     ]
    }
   ],
   "source": [
    "y_pred = lg.predict(test_vectors)\n",
    "\n",
    "print('Testing accuracy %s' % accuracy_score(Y_test['stars'],y_pred))\n",
    "\n"
   ]
  },
  {
   "cell_type": "markdown",
   "metadata": {},
   "source": [
    "### LogisticRegression still wasn't good enough, so I examined the data to try to find why the predictions are not working.\n",
    "\n",
    "### As we saw in the first analysis of the raw data there are more than 20,000 reviews with a grade of 5 stars, while there are less than 10,000 reviews for the grades of 1,2,3. the data is not distributed properly.\n",
    "### So I tried 'class_weight' to normalize the data distribution."
   ]
  },
  {
   "cell_type": "code",
   "execution_count": 139,
   "metadata": {},
   "outputs": [
    {
     "name": "stdout",
     "output_type": "stream",
     "text": [
      "Testing accuracy 0.5592356584138121\n"
     ]
    }
   ],
   "source": [
    "lgb = LogisticRegression(n_jobs=1, C=1e5, class_weight='balanced')#class weight!\n",
    "\n",
    "lgb.fit(train_vecctors, Y_train['stars'])\n",
    "y_pred_lgb = lgb.predict(test_vectors)\n",
    "\n",
    "print('Testing accuracy %s' % accuracy_score(Y_test['stars'],y_pred_lgb))"
   ]
  },
  {
   "cell_type": "markdown",
   "metadata": {},
   "source": [
    "### The prediction is still not good enough, even worse than before...\n",
    "### So I checked where the model was managed to predict right and where it was wrong using a confusion matrix (with the regular LogisticRegression prediction)"
   ]
  },
  {
   "cell_type": "code",
   "execution_count": 93,
   "metadata": {},
   "outputs": [
    {
     "data": {
      "text/plain": [
       "array([[ 32551,  11232,   2964,   1715,   2834],\n",
       "       [  7360,  11972,   7284,   2476,   1560],\n",
       "       [  3346,   8798,  16780,  10532,   3709],\n",
       "       [  2948,   4958,  16285,  36071,  25581],\n",
       "       [  5890,   3595,   7108,  32166, 108602]], dtype=int64)"
      ]
     },
     "execution_count": 93,
     "metadata": {},
     "output_type": "execute_result"
    }
   ],
   "source": [
    "con = confusion_matrix(Y_test['stars'],y_pred)\n",
    "con"
   ]
  },
  {
   "cell_type": "code",
   "execution_count": 95,
   "metadata": {},
   "outputs": [
    {
     "data": {
      "image/png": "[encoded data removed]",
      "text/plain": [
       "<Figure size 720x504 with 2 Axes>"
      ]
     },
     "metadata": {},
     "output_type": "display_data"
    }
   ],
   "source": [
    "x_axis_labels = [1,2,3,4,5]\n",
    "y_axis_labels = [1,2,3,4,5]\n",
    "plt.figure(figsize=(10,7))\n",
    "sns.set(font_scale=1.4) # for label size\n",
    "sns.heatmap(con,fmt=\"d\",cmap=\"YlGnBu\", annot=True, annot_kws={\"size\": 16}, xticklabels=x_axis_labels, yticklabels=y_axis_labels) # font size\n",
    "\n",
    "plt.show()"
   ]
  },
  {
   "cell_type": "markdown",
   "metadata": {},
   "source": [
    "### It can be seen that the model is mainly good for predicting the extreme grades of 5 and 1 (although it is also very wrong in both).\n",
    "### Apparently, according to the context of the text, it is easier to predict a really good score and a really bad score. Still, I tried to see if there are other factors that affect the prediction of the model, so I tried to see if the length of the review will predict the grade better. (how many words in each review)."
   ]
  },
  {
   "cell_type": "code",
   "execution_count": 103,
   "metadata": {},
   "outputs": [],
   "source": [
    "X_train['len_text'] = [len(line) for line in X_train['tokenized_text']] \n",
    "X_test['len_text'] = [len(line) for line in X_test['tokenized_text']] "
   ]
  },
  {
   "cell_type": "code",
   "execution_count": 145,
   "metadata": {},
   "outputs": [],
   "source": [
    "train_corpus_len = X_train['len_text'].to_numpy()\n",
    "test_corpus_len = X_test['len_text'].to_numpy()"
   ]
  },
  {
   "cell_type": "code",
   "execution_count": 146,
   "metadata": {},
   "outputs": [],
   "source": [
    "stars_list_train = Y_train['stars'].to_numpy()\n",
    "stars_list_test = Y_test['stars'].to_numpy()"
   ]
  },
  {
   "cell_type": "code",
   "execution_count": 195,
   "metadata": {},
   "outputs": [
    {
     "name": "stdout",
     "output_type": "stream",
     "text": [
      "Testing accuracy 0.4289511480599592\n"
     ]
    }
   ],
   "source": [
    "lg_len = LogisticRegression(n_jobs=1, C=1e5)\n",
    "\n",
    "lg_len.fit(train_corpus_len.reshape(-1, 1),stars_list_train)\n",
    "\n",
    "y_len = lg_len.predict(test_corpus_len.reshape(-1, 1))\n",
    "\n",
    "print('Testing accuracy %s' % accuracy_score(Y_test['stars'],y_len))"
   ]
  },
  {
   "cell_type": "markdown",
   "metadata": {},
   "source": [
    "### Using the length of the text to predict the grade wasn't so successful... As you can see in the graphs below, it's probably because most reviews were at the same length"
   ]
  },
  {
   "cell_type": "code",
   "execution_count": 240,
   "metadata": {},
   "outputs": [
    {
     "data": {
      "text/plain": [
       "Text(0, 0.5, 'Numer of text-review')"
      ]
     },
     "execution_count": 240,
     "metadata": {},
     "output_type": "execute_result"
    },
    {
     "data": {
      "image/png": "[encoded data removed]",
      "text/plain": [
       "<Figure size 864x576 with 1 Axes>"
      ]
     },
     "metadata": {},
     "output_type": "display_data"
    }
   ],
   "source": [
    "\n",
    "his = df.hist('len_text',bins=8, grid=True, figsize=(12,8), color='#A040A0', zorder=3, rwidth=0.5)\n",
    "plt.ylim(0, 100000)\n",
    "plt.xlim(0,1000)\n",
    "plt.title(\"Review length\")\n",
    "plt.xlabel(\"Numbe of words in review\")\n",
    "plt.ylabel(\"Numer of text-review\")"
   ]
  },
  {
   "cell_type": "code",
   "execution_count": 190,
   "metadata": {},
   "outputs": [
    {
     "data": {
      "text/plain": [
       "stars\n",
       "1    134.062643\n",
       "2    133.061475\n",
       "3    123.987206\n",
       "4    109.220027\n",
       "5     84.786134\n",
       "Name: len_text, dtype: float64"
      ]
     },
     "execution_count": 190,
     "metadata": {},
     "output_type": "execute_result"
    }
   ],
   "source": [
    "q = df.groupby('stars').len_text.agg('mean')\n",
    "q"
   ]
  },
  {
   "cell_type": "code",
   "execution_count": 204,
   "metadata": {},
   "outputs": [
    {
     "data": {
      "image/png": "[encoded data removed]",
      "text/plain": [
       "<Figure size 864x288 with 1 Axes>"
      ]
     },
     "metadata": {},
     "output_type": "display_data"
    }
   ],
   "source": [
    "plt.figure(figsize=(12,4))\n",
    "sns.barplot(q.index, q.values, alpha=0.8)\n",
    "plt.ylabel('Avrage text length', fontsize=12)\n",
    "plt.xlabel('stars', fontsize=12)\n",
    "plt.xticks(rotation=90)\n",
    "plt.show();"
   ]
  },
  {
   "cell_type": "markdown",
   "metadata": {},
   "source": [
    "### I decided to see where the model predicted best the grade by the length of the review. So I connected the X_test and Y_test to a new data frame, where I added the predicted outcome column and True/False column that implicate if the prediction was true or not."
   ]
  },
  {
   "cell_type": "code",
   "execution_count": 212,
   "metadata": {},
   "outputs": [],
   "source": [
    "X_test['predicted'] = lg_len.predict(test_corpus_len.reshape(-1, 1))"
   ]
  },
  {
   "cell_type": "code",
   "execution_count": 214,
   "metadata": {},
   "outputs": [
    {
     "data": {
      "text/html": [
       "<div>\n",
       "<style scoped>\n",
       "    .dataframe tbody tr th:only-of-type {\n",
       "        vertical-align: middle;\n",
       "    }\n",
       "\n",
       "    .dataframe tbody tr th {\n",
       "        vertical-align: top;\n",
       "    }\n",
       "\n",
       "    .dataframe thead th {\n",
       "        text-align: right;\n",
       "    }\n",
       "</style>\n",
       "<table border=\"1\" class=\"dataframe\">\n",
       "  <thead>\n",
       "    <tr style=\"text-align: right;\">\n",
       "      <th></th>\n",
       "      <th>index</th>\n",
       "      <th>tokenized_text</th>\n",
       "      <th>Vectors</th>\n",
       "      <th>filter_col</th>\n",
       "      <th>mean_vec</th>\n",
       "      <th>len_text</th>\n",
       "      <th>predicted</th>\n",
       "      <th>index</th>\n",
       "      <th>stars</th>\n",
       "      <th>grade_frase</th>\n",
       "    </tr>\n",
       "  </thead>\n",
       "  <tbody>\n",
       "    <tr>\n",
       "      <th>0</th>\n",
       "      <td>10622</td>\n",
       "      <td>[wow, this, place, is, amazing, came, here, al...</td>\n",
       "      <td>[-0.40806586, -0.07102607, 0.10274067, -0.0491...</td>\n",
       "      <td>[wow, this, place, is, amazing, came, here, al...</td>\n",
       "      <td>[-0.66130704, -0.051107932, -1.1307237, 0.6072...</td>\n",
       "      <td>33</td>\n",
       "      <td>5</td>\n",
       "      <td>10622</td>\n",
       "      <td>5</td>\n",
       "      <td>good</td>\n",
       "    </tr>\n",
       "    <tr>\n",
       "      <th>1</th>\n",
       "      <td>379908</td>\n",
       "      <td>[stars, without, doubt, this, is, great, place...</td>\n",
       "      <td>[-0.27159443, 0.12536049, -0.3036643, -0.14763...</td>\n",
       "      <td>[stars, without, doubt, this, is, great, place...</td>\n",
       "      <td>[-0.38598126, -0.17961591, -1.0389408, 0.36466...</td>\n",
       "      <td>120</td>\n",
       "      <td>5</td>\n",
       "      <td>379908</td>\n",
       "      <td>5</td>\n",
       "      <td>good</td>\n",
       "    </tr>\n",
       "    <tr>\n",
       "      <th>2</th>\n",
       "      <td>503911</td>\n",
       "      <td>[pizza, is, average, and, slightly, overpriced...</td>\n",
       "      <td>[-0.05668631, 0.0655899, -0.14313398, 0.196121...</td>\n",
       "      <td>[pizza, is, average, and, slightly, overpriced...</td>\n",
       "      <td>[-0.45352498, 0.27113074, -0.7959835, 0.521655...</td>\n",
       "      <td>27</td>\n",
       "      <td>5</td>\n",
       "      <td>503911</td>\n",
       "      <td>3</td>\n",
       "      <td>bad</td>\n",
       "    </tr>\n",
       "    <tr>\n",
       "      <th>3</th>\n",
       "      <td>452290</td>\n",
       "      <td>[this, was, as, good, as, the, best, reviews, ...</td>\n",
       "      <td>[-0.16350001, -0.18856613, 0.3113828, -0.01223...</td>\n",
       "      <td>[this, was, as, good, as, the, best, reviews, ...</td>\n",
       "      <td>[-0.9839117, -0.10812851, -0.031170527, 1.2287...</td>\n",
       "      <td>37</td>\n",
       "      <td>5</td>\n",
       "      <td>452290</td>\n",
       "      <td>5</td>\n",
       "      <td>good</td>\n",
       "    </tr>\n",
       "    <tr>\n",
       "      <th>4</th>\n",
       "      <td>442956</td>\n",
       "      <td>[recently, started, taking, my, dogs, here, an...</td>\n",
       "      <td>[-0.30941734, 0.13279118, -0.20396425, 0.25341...</td>\n",
       "      <td>[recently, started, taking, my, dogs, here, an...</td>\n",
       "      <td>[-0.3924339, -0.28086048, -1.33251, 0.40762296...</td>\n",
       "      <td>66</td>\n",
       "      <td>5</td>\n",
       "      <td>442956</td>\n",
       "      <td>5</td>\n",
       "      <td>good</td>\n",
       "    </tr>\n",
       "  </tbody>\n",
       "</table>\n",
       "</div>"
      ],
      "text/plain": [
       "    index                                     tokenized_text  \\\n",
       "0   10622  [wow, this, place, is, amazing, came, here, al...   \n",
       "1  379908  [stars, without, doubt, this, is, great, place...   \n",
       "2  503911  [pizza, is, average, and, slightly, overpriced...   \n",
       "3  452290  [this, was, as, good, as, the, best, reviews, ...   \n",
       "4  442956  [recently, started, taking, my, dogs, here, an...   \n",
       "\n",
       "                                             Vectors  \\\n",
       "0  [-0.40806586, -0.07102607, 0.10274067, -0.0491...   \n",
       "1  [-0.27159443, 0.12536049, -0.3036643, -0.14763...   \n",
       "2  [-0.05668631, 0.0655899, -0.14313398, 0.196121...   \n",
       "3  [-0.16350001, -0.18856613, 0.3113828, -0.01223...   \n",
       "4  [-0.30941734, 0.13279118, -0.20396425, 0.25341...   \n",
       "\n",
       "                                          filter_col  \\\n",
       "0  [wow, this, place, is, amazing, came, here, al...   \n",
       "1  [stars, without, doubt, this, is, great, place...   \n",
       "2  [pizza, is, average, and, slightly, overpriced...   \n",
       "3  [this, was, as, good, as, the, best, reviews, ...   \n",
       "4  [recently, started, taking, my, dogs, here, an...   \n",
       "\n",
       "                                            mean_vec  len_text  predicted  \\\n",
       "0  [-0.66130704, -0.051107932, -1.1307237, 0.6072...        33          5   \n",
       "1  [-0.38598126, -0.17961591, -1.0389408, 0.36466...       120          5   \n",
       "2  [-0.45352498, 0.27113074, -0.7959835, 0.521655...        27          5   \n",
       "3  [-0.9839117, -0.10812851, -0.031170527, 1.2287...        37          5   \n",
       "4  [-0.3924339, -0.28086048, -1.33251, 0.40762296...        66          5   \n",
       "\n",
       "    index  stars grade_frase  \n",
       "0   10622      5        good  \n",
       "1  379908      5        good  \n",
       "2  503911      3         bad  \n",
       "3  452290      5        good  \n",
       "4  442956      5        good  "
      ]
     },
     "execution_count": 214,
     "metadata": {},
     "output_type": "execute_result"
    }
   ],
   "source": [
    "df_sns = pd.concat([X_test, Y_test], axis=1, sort=False)\n",
    "df_sns.head()"
   ]
  },
  {
   "cell_type": "code",
   "execution_count": 226,
   "metadata": {},
   "outputs": [],
   "source": [
    "df_sns['true/false'] = np.where(df_sns['predicted']==df_sns['stars'],True, False)\n"
   ]
  },
  {
   "cell_type": "code",
   "execution_count": 227,
   "metadata": {},
   "outputs": [
    {
     "data": {
      "text/html": [
       "<div>\n",
       "<style scoped>\n",
       "    .dataframe tbody tr th:only-of-type {\n",
       "        vertical-align: middle;\n",
       "    }\n",
       "\n",
       "    .dataframe tbody tr th {\n",
       "        vertical-align: top;\n",
       "    }\n",
       "\n",
       "    .dataframe thead th {\n",
       "        text-align: right;\n",
       "    }\n",
       "</style>\n",
       "<table border=\"1\" class=\"dataframe\">\n",
       "  <thead>\n",
       "    <tr style=\"text-align: right;\">\n",
       "      <th></th>\n",
       "      <th>index</th>\n",
       "      <th>tokenized_text</th>\n",
       "      <th>Vectors</th>\n",
       "      <th>filter_col</th>\n",
       "      <th>mean_vec</th>\n",
       "      <th>len_text</th>\n",
       "      <th>predicted</th>\n",
       "      <th>index</th>\n",
       "      <th>stars</th>\n",
       "      <th>grade_frase</th>\n",
       "      <th>true/false</th>\n",
       "    </tr>\n",
       "  </thead>\n",
       "  <tbody>\n",
       "    <tr>\n",
       "      <th>0</th>\n",
       "      <td>10622</td>\n",
       "      <td>[wow, this, place, is, amazing, came, here, al...</td>\n",
       "      <td>[-0.40806586, -0.07102607, 0.10274067, -0.0491...</td>\n",
       "      <td>[wow, this, place, is, amazing, came, here, al...</td>\n",
       "      <td>[-0.66130704, -0.051107932, -1.1307237, 0.6072...</td>\n",
       "      <td>33</td>\n",
       "      <td>5</td>\n",
       "      <td>10622</td>\n",
       "      <td>5</td>\n",
       "      <td>good</td>\n",
       "      <td>True</td>\n",
       "    </tr>\n",
       "    <tr>\n",
       "      <th>1</th>\n",
       "      <td>379908</td>\n",
       "      <td>[stars, without, doubt, this, is, great, place...</td>\n",
       "      <td>[-0.27159443, 0.12536049, -0.3036643, -0.14763...</td>\n",
       "      <td>[stars, without, doubt, this, is, great, place...</td>\n",
       "      <td>[-0.38598126, -0.17961591, -1.0389408, 0.36466...</td>\n",
       "      <td>120</td>\n",
       "      <td>5</td>\n",
       "      <td>379908</td>\n",
       "      <td>5</td>\n",
       "      <td>good</td>\n",
       "      <td>True</td>\n",
       "    </tr>\n",
       "    <tr>\n",
       "      <th>2</th>\n",
       "      <td>503911</td>\n",
       "      <td>[pizza, is, average, and, slightly, overpriced...</td>\n",
       "      <td>[-0.05668631, 0.0655899, -0.14313398, 0.196121...</td>\n",
       "      <td>[pizza, is, average, and, slightly, overpriced...</td>\n",
       "      <td>[-0.45352498, 0.27113074, -0.7959835, 0.521655...</td>\n",
       "      <td>27</td>\n",
       "      <td>5</td>\n",
       "      <td>503911</td>\n",
       "      <td>3</td>\n",
       "      <td>bad</td>\n",
       "      <td>False</td>\n",
       "    </tr>\n",
       "    <tr>\n",
       "      <th>3</th>\n",
       "      <td>452290</td>\n",
       "      <td>[this, was, as, good, as, the, best, reviews, ...</td>\n",
       "      <td>[-0.16350001, -0.18856613, 0.3113828, -0.01223...</td>\n",
       "      <td>[this, was, as, good, as, the, best, reviews, ...</td>\n",
       "      <td>[-0.9839117, -0.10812851, -0.031170527, 1.2287...</td>\n",
       "      <td>37</td>\n",
       "      <td>5</td>\n",
       "      <td>452290</td>\n",
       "      <td>5</td>\n",
       "      <td>good</td>\n",
       "      <td>True</td>\n",
       "    </tr>\n",
       "    <tr>\n",
       "      <th>4</th>\n",
       "      <td>442956</td>\n",
       "      <td>[recently, started, taking, my, dogs, here, an...</td>\n",
       "      <td>[-0.30941734, 0.13279118, -0.20396425, 0.25341...</td>\n",
       "      <td>[recently, started, taking, my, dogs, here, an...</td>\n",
       "      <td>[-0.3924339, -0.28086048, -1.33251, 0.40762296...</td>\n",
       "      <td>66</td>\n",
       "      <td>5</td>\n",
       "      <td>442956</td>\n",
       "      <td>5</td>\n",
       "      <td>good</td>\n",
       "      <td>True</td>\n",
       "    </tr>\n",
       "  </tbody>\n",
       "</table>\n",
       "</div>"
      ],
      "text/plain": [
       "    index                                     tokenized_text  \\\n",
       "0   10622  [wow, this, place, is, amazing, came, here, al...   \n",
       "1  379908  [stars, without, doubt, this, is, great, place...   \n",
       "2  503911  [pizza, is, average, and, slightly, overpriced...   \n",
       "3  452290  [this, was, as, good, as, the, best, reviews, ...   \n",
       "4  442956  [recently, started, taking, my, dogs, here, an...   \n",
       "\n",
       "                                             Vectors  \\\n",
       "0  [-0.40806586, -0.07102607, 0.10274067, -0.0491...   \n",
       "1  [-0.27159443, 0.12536049, -0.3036643, -0.14763...   \n",
       "2  [-0.05668631, 0.0655899, -0.14313398, 0.196121...   \n",
       "3  [-0.16350001, -0.18856613, 0.3113828, -0.01223...   \n",
       "4  [-0.30941734, 0.13279118, -0.20396425, 0.25341...   \n",
       "\n",
       "                                          filter_col  \\\n",
       "0  [wow, this, place, is, amazing, came, here, al...   \n",
       "1  [stars, without, doubt, this, is, great, place...   \n",
       "2  [pizza, is, average, and, slightly, overpriced...   \n",
       "3  [this, was, as, good, as, the, best, reviews, ...   \n",
       "4  [recently, started, taking, my, dogs, here, an...   \n",
       "\n",
       "                                            mean_vec  len_text  predicted  \\\n",
       "0  [-0.66130704, -0.051107932, -1.1307237, 0.6072...        33          5   \n",
       "1  [-0.38598126, -0.17961591, -1.0389408, 0.36466...       120          5   \n",
       "2  [-0.45352498, 0.27113074, -0.7959835, 0.521655...        27          5   \n",
       "3  [-0.9839117, -0.10812851, -0.031170527, 1.2287...        37          5   \n",
       "4  [-0.3924339, -0.28086048, -1.33251, 0.40762296...        66          5   \n",
       "\n",
       "    index  stars grade_frase  true/false  \n",
       "0   10622      5        good        True  \n",
       "1  379908      5        good        True  \n",
       "2  503911      3         bad       False  \n",
       "3  452290      5        good        True  \n",
       "4  442956      5        good        True  "
      ]
     },
     "execution_count": 227,
     "metadata": {},
     "output_type": "execute_result"
    }
   ],
   "source": [
    "df_sns.head()"
   ]
  },
  {
   "cell_type": "code",
   "execution_count": 244,
   "metadata": {},
   "outputs": [
    {
     "data": {
      "text/plain": [
       "992"
      ]
     },
     "execution_count": 244,
     "metadata": {},
     "output_type": "execute_result"
    }
   ],
   "source": [
    "df_sns['len_text'].max()"
   ]
  },
  {
   "cell_type": "code",
   "execution_count": 246,
   "metadata": {},
   "outputs": [
    {
     "data": {
      "text/plain": [
       "stars  true/false\n",
       "1      False         113.776958\n",
       "       True          541.894737\n",
       "2      False         133.095589\n",
       "3      False         123.647261\n",
       "4      False          99.249107\n",
       "       True          310.289648\n",
       "5      False         374.453518\n",
       "       True           73.486291\n",
       "Name: len_text, dtype: float64"
      ]
     },
     "execution_count": 246,
     "metadata": {},
     "output_type": "execute_result"
    }
   ],
   "source": [
    "q2 = df_sns.groupby(['stars','true/false']).len_text.agg('mean')\n",
    "q2"
   ]
  },
  {
   "cell_type": "code",
   "execution_count": 243,
   "metadata": {},
   "outputs": [
    {
     "data": {
      "text/plain": [
       "<seaborn.axisgrid.FacetGrid at 0x1ed4d094208>"
      ]
     },
     "execution_count": 243,
     "metadata": {},
     "output_type": "execute_result"
    },
    {
     "data": {
      "image/png": "[encoded data removed]",
      "text/plain": [
       "<Figure size 646.904x595.44 with 1 Axes>"
      ]
     },
     "metadata": {},
     "output_type": "display_data"
    }
   ],
   "source": [
    "sns.catplot(x='stars', y='len_text', hue='true/false', data=df_sns, kind='bar', height=8.27, aspect=11.7/12)\n"
   ]
  },
  {
   "cell_type": "markdown",
   "metadata": {},
   "source": [
    "### As we can see when there is a low-grade with long text in the review, the model predicts better. But when the grade is high and the text is long, the model doesn't predict so well. when the text is long with a positive tone, the model will predict the grade is 4...\n",
    "\n",
    "### Grading 2 and 3 are completely wrong, I guess it's because people who grade 2 or 3 leave a neutral review and the model has difficulties to analyse the grade without a strong tone of a good or bad review"
   ]
  },
  {
   "cell_type": "markdown",
   "metadata": {},
   "source": [
    "## PART 2 \n",
    "\n",
    "### I grouped the reviews by their score into Good or Bad categories and added a column with the resultes"
   ]
  },
  {
   "cell_type": "code",
   "execution_count": 43,
   "metadata": {},
   "outputs": [
    {
     "data": {
      "text/html": [
       "<div>\n",
       "<style scoped>\n",
       "    .dataframe tbody tr th:only-of-type {\n",
       "        vertical-align: middle;\n",
       "    }\n",
       "\n",
       "    .dataframe tbody tr th {\n",
       "        vertical-align: top;\n",
       "    }\n",
       "\n",
       "    .dataframe thead th {\n",
       "        text-align: right;\n",
       "    }\n",
       "</style>\n",
       "<table border=\"1\" class=\"dataframe\">\n",
       "  <thead>\n",
       "    <tr style=\"text-align: right;\">\n",
       "      <th></th>\n",
       "      <th>text</th>\n",
       "      <th>stars</th>\n",
       "      <th>tokenized_text</th>\n",
       "      <th>grade_frase</th>\n",
       "    </tr>\n",
       "  </thead>\n",
       "  <tbody>\n",
       "    <tr>\n",
       "      <th>0</th>\n",
       "      <td>My family (myself, my husband and my daughters...</td>\n",
       "      <td>5</td>\n",
       "      <td>[my, family, myself, my, husband, and, my, dau...</td>\n",
       "      <td>good</td>\n",
       "    </tr>\n",
       "    <tr>\n",
       "      <th>1</th>\n",
       "      <td>I just had a great experience with Lance at Th...</td>\n",
       "      <td>5</td>\n",
       "      <td>[just, had, great, experience, with, lance, at...</td>\n",
       "      <td>good</td>\n",
       "    </tr>\n",
       "    <tr>\n",
       "      <th>2</th>\n",
       "      <td>This location is sooo clean and the customer s...</td>\n",
       "      <td>5</td>\n",
       "      <td>[this, location, is, sooo, clean, and, the, cu...</td>\n",
       "      <td>good</td>\n",
       "    </tr>\n",
       "    <tr>\n",
       "      <th>3</th>\n",
       "      <td>YUM! quite possibly the best veggie burger I h...</td>\n",
       "      <td>4</td>\n",
       "      <td>[yum, quite, possibly, the, best, veggie, burg...</td>\n",
       "      <td>good</td>\n",
       "    </tr>\n",
       "    <tr>\n",
       "      <th>4</th>\n",
       "      <td>We had AYCE lunch on a weekend. In a nutshell,...</td>\n",
       "      <td>3</td>\n",
       "      <td>[we, had, ayce, lunch, on, weekend, in, nutshe...</td>\n",
       "      <td>bad</td>\n",
       "    </tr>\n",
       "  </tbody>\n",
       "</table>\n",
       "</div>"
      ],
      "text/plain": [
       "                                                text  stars  \\\n",
       "0  My family (myself, my husband and my daughters...      5   \n",
       "1  I just had a great experience with Lance at Th...      5   \n",
       "2  This location is sooo clean and the customer s...      5   \n",
       "3  YUM! quite possibly the best veggie burger I h...      4   \n",
       "4  We had AYCE lunch on a weekend. In a nutshell,...      3   \n",
       "\n",
       "                                      tokenized_text grade_frase  \n",
       "0  [my, family, myself, my, husband, and, my, dau...        good  \n",
       "1  [just, had, great, experience, with, lance, at...        good  \n",
       "2  [this, location, is, sooo, clean, and, the, cu...        good  \n",
       "3  [yum, quite, possibly, the, best, veggie, burg...        good  \n",
       "4  [we, had, ayce, lunch, on, weekend, in, nutshe...         bad  "
      ]
     },
     "execution_count": 43,
     "metadata": {},
     "output_type": "execute_result"
    }
   ],
   "source": [
    "def map_grade(stars_received):\n",
    "    if stars_received <= 3:\n",
    "        return 'bad'\n",
    "    elif stars_received > 3:\n",
    "        return 'good'\n",
    "\n",
    "# Mapping stars to sentiment into three categories\n",
    "df['grade_frase'] = [ map_grade(x) for x in df['stars']]\n",
    "\n",
    "df.head()"
   ]
  },
  {
   "cell_type": "code",
   "execution_count": 44,
   "metadata": {},
   "outputs": [
    {
     "data": {
      "image/png": "[encoded data removed]",
      "text/plain": [
       "<Figure size 432x288 with 1 Axes>"
      ]
     },
     "metadata": {
      "needs_background": "light"
     },
     "output_type": "display_data"
    }
   ],
   "source": [
    "# Plotting the sentiment distribution\n",
    "plt.figure()\n",
    "pd.value_counts(df['grade_frase']).plot.bar(title=\"Sentiment distribution in df\")\n",
    "plt.xlabel(\"Sentiment: -1=bad, 1=good\")\n",
    "plt.ylabel(\"No. of rows in df\")\n",
    "plt.show()"
   ]
  },
  {
   "cell_type": "markdown",
   "metadata": {},
   "source": [
    "### Use the tokenized text (and not the tagged text) in order to use the word2vec model"
   ]
  },
  {
   "cell_type": "code",
   "execution_count": 45,
   "metadata": {},
   "outputs": [
    {
     "name": "stdout",
     "output_type": "stream",
     "text": [
      "Wall time: 984 µs\n"
     ]
    }
   ],
   "source": [
    "%time\n",
    "\n",
    "train_sent = X_train['tokenized_text']\n",
    "test_sent = X_test['tokenized_text']\n",
    "\n",
    "\n",
    "train_corpus_sent = list(train_sent)\n",
    "test_corpus_sent = list(test_sent)"
   ]
  },
  {
   "cell_type": "markdown",
   "metadata": {},
   "source": [
    "### Train word2vec model\n",
    "### Here too, I chose to take into account the stop-words (for the same reasons)"
   ]
  },
  {
   "cell_type": "code",
   "execution_count": 46,
   "metadata": {},
   "outputs": [
    {
     "name": "stderr",
     "output_type": "stream",
     "text": [
      "2021-01-05 00:00:09,894 : INFO : collecting all words and their counts\n",
      "2021-01-05 00:00:09,900 : INFO : PROGRESS: at sentence #0, processed 0 words, keeping 0 word types\n",
      "2021-01-05 00:00:14,753 : INFO : PROGRESS: at sentence #10000, processed 1074160 words, keeping 28800 word types\n",
      "2021-01-05 00:00:18,243 : INFO : PROGRESS: at sentence #20000, processed 2151565 words, keeping 40321 word types\n",
      "2021-01-05 00:00:20,740 : INFO : PROGRESS: at sentence #30000, processed 3197617 words, keeping 48774 word types\n",
      "2021-01-05 00:00:22,907 : INFO : PROGRESS: at sentence #40000, processed 4246495 words, keeping 56114 word types\n",
      "2021-01-05 00:00:25,021 : INFO : PROGRESS: at sentence #50000, processed 5306028 words, keeping 62441 word types\n",
      "2021-01-05 00:00:27,024 : INFO : PROGRESS: at sentence #60000, processed 6371558 words, keeping 68139 word types\n",
      "2021-01-05 00:00:29,917 : INFO : PROGRESS: at sentence #70000, processed 7422938 words, keeping 73309 word types\n",
      "2021-01-05 00:00:31,914 : INFO : PROGRESS: at sentence #80000, processed 8473410 words, keeping 77999 word types\n",
      "2021-01-05 00:00:33,824 : INFO : PROGRESS: at sentence #90000, processed 9529843 words, keeping 82494 word types\n",
      "2021-01-05 00:00:35,401 : INFO : PROGRESS: at sentence #100000, processed 10602033 words, keeping 86736 word types\n",
      "2021-01-05 00:00:36,982 : INFO : PROGRESS: at sentence #110000, processed 11663359 words, keeping 90762 word types\n",
      "2021-01-05 00:00:38,792 : INFO : PROGRESS: at sentence #120000, processed 12729389 words, keeping 94631 word types\n",
      "2021-01-05 00:00:40,235 : INFO : PROGRESS: at sentence #130000, processed 13788884 words, keeping 98290 word types\n",
      "2021-01-05 00:00:41,684 : INFO : PROGRESS: at sentence #140000, processed 14833238 words, keeping 101736 word types\n",
      "2021-01-05 00:00:43,189 : INFO : PROGRESS: at sentence #150000, processed 15887977 words, keeping 105026 word types\n",
      "2021-01-05 00:00:44,234 : INFO : collected 107530 word types from a corpus of 16708933 raw words and 157850 sentences\n",
      "2021-01-05 00:00:44,237 : INFO : Loading a fresh vocabulary\n",
      "2021-01-05 00:01:23,912 : INFO : effective_min_count=1 retains 107530 unique words (100% of original 107530, drops 0)\n",
      "2021-01-05 00:01:23,932 : INFO : effective_min_count=1 leaves 16708933 word corpus (100% of original 16708933, drops 0)\n",
      "2021-01-05 00:01:24,754 : INFO : deleting the raw counts dictionary of 107530 items\n",
      "2021-01-05 00:01:24,788 : INFO : sample=0.001 downsamples 54 most-common words\n",
      "2021-01-05 00:01:24,792 : INFO : downsampling leaves estimated 12821671 word corpus (76.7% of prior 16708933)\n",
      "2021-01-05 00:01:25,573 : INFO : estimated required memory for 107530 words and 100 dimensions: 139789000 bytes\n",
      "2021-01-05 00:01:25,579 : INFO : resetting layer weights\n",
      "2021-01-05 00:01:52,568 : INFO : training model with 4 workers on 107530 vocabulary and 100 features, using sg=0 hs=0 sample=0.001 negative=5 window=5\n",
      "2021-01-05 00:01:53,656 : INFO : EPOCH 1 - PROGRESS: at 5.26% examples, 678062 words/s, in_qsize 6, out_qsize 1\n",
      "2021-01-05 00:01:54,661 : INFO : EPOCH 1 - PROGRESS: at 11.94% examples, 773776 words/s, in_qsize 7, out_qsize 0\n",
      "2021-01-05 00:01:55,675 : INFO : EPOCH 1 - PROGRESS: at 17.51% examples, 747961 words/s, in_qsize 7, out_qsize 0\n",
      "2021-01-05 00:01:56,751 : INFO : EPOCH 1 - PROGRESS: at 21.18% examples, 668598 words/s, in_qsize 4, out_qsize 3\n",
      "2021-01-05 00:01:57,786 : INFO : EPOCH 1 - PROGRESS: at 24.74% examples, 619781 words/s, in_qsize 7, out_qsize 0\n",
      "2021-01-05 00:01:58,797 : INFO : EPOCH 1 - PROGRESS: at 28.58% examples, 595925 words/s, in_qsize 8, out_qsize 0\n",
      "2021-01-05 00:01:59,804 : INFO : EPOCH 1 - PROGRESS: at 31.98% examples, 574660 words/s, in_qsize 7, out_qsize 0\n",
      "2021-01-05 00:02:00,833 : INFO : EPOCH 1 - PROGRESS: at 36.69% examples, 576488 words/s, in_qsize 8, out_qsize 2\n",
      "2021-01-05 00:02:01,834 : INFO : EPOCH 1 - PROGRESS: at 42.89% examples, 598664 words/s, in_qsize 5, out_qsize 2\n",
      "2021-01-05 00:02:02,836 : INFO : EPOCH 1 - PROGRESS: at 48.41% examples, 609990 words/s, in_qsize 7, out_qsize 0\n",
      "2021-01-05 00:02:03,864 : INFO : EPOCH 1 - PROGRESS: at 52.66% examples, 602137 words/s, in_qsize 6, out_qsize 1\n",
      "2021-01-05 00:02:04,882 : INFO : EPOCH 1 - PROGRESS: at 58.57% examples, 614886 words/s, in_qsize 7, out_qsize 0\n",
      "2021-01-05 00:02:05,888 : INFO : EPOCH 1 - PROGRESS: at 64.58% examples, 626640 words/s, in_qsize 8, out_qsize 1\n",
      "2021-01-05 00:02:06,905 : INFO : EPOCH 1 - PROGRESS: at 70.76% examples, 637272 words/s, in_qsize 7, out_qsize 0\n",
      "2021-01-05 00:02:07,906 : INFO : EPOCH 1 - PROGRESS: at 75.55% examples, 636322 words/s, in_qsize 8, out_qsize 0\n",
      "2021-01-05 00:02:08,917 : INFO : EPOCH 1 - PROGRESS: at 81.96% examples, 647227 words/s, in_qsize 8, out_qsize 0\n",
      "2021-01-05 00:02:09,920 : INFO : EPOCH 1 - PROGRESS: at 87.70% examples, 651901 words/s, in_qsize 6, out_qsize 1\n",
      "2021-01-05 00:02:10,928 : INFO : EPOCH 1 - PROGRESS: at 94.17% examples, 660885 words/s, in_qsize 7, out_qsize 0\n",
      "2021-01-05 00:02:11,944 : INFO : EPOCH 1 - PROGRESS: at 98.47% examples, 654476 words/s, in_qsize 8, out_qsize 0\n",
      "2021-01-05 00:02:12,398 : INFO : worker thread finished; awaiting finish of 3 more threads\n",
      "2021-01-05 00:02:12,413 : INFO : worker thread finished; awaiting finish of 2 more threads\n",
      "2021-01-05 00:02:12,416 : INFO : worker thread finished; awaiting finish of 1 more threads\n",
      "2021-01-05 00:02:12,422 : INFO : worker thread finished; awaiting finish of 0 more threads\n",
      "2021-01-05 00:02:12,423 : INFO : EPOCH - 1 : training on 16708933 raw words (12822287 effective words) took 19.8s, 648363 effective words/s\n",
      "2021-01-05 00:02:13,432 : INFO : EPOCH 2 - PROGRESS: at 5.55% examples, 721640 words/s, in_qsize 8, out_qsize 0\n",
      "2021-01-05 00:02:14,450 : INFO : EPOCH 2 - PROGRESS: at 11.09% examples, 719404 words/s, in_qsize 7, out_qsize 0\n",
      "2021-01-05 00:02:15,453 : INFO : EPOCH 2 - PROGRESS: at 16.69% examples, 714385 words/s, in_qsize 8, out_qsize 0\n",
      "2021-01-05 00:02:16,464 : INFO : EPOCH 2 - PROGRESS: at 21.30% examples, 684154 words/s, in_qsize 7, out_qsize 2\n",
      "2021-01-05 00:02:17,486 : INFO : EPOCH 2 - PROGRESS: at 24.74% examples, 630009 words/s, in_qsize 8, out_qsize 0\n",
      "2021-01-05 00:02:18,491 : INFO : EPOCH 2 - PROGRESS: at 28.82% examples, 609667 words/s, in_qsize 7, out_qsize 0\n",
      "2021-01-05 00:02:19,498 : INFO : EPOCH 2 - PROGRESS: at 33.66% examples, 611925 words/s, in_qsize 8, out_qsize 0\n",
      "2021-01-05 00:02:20,499 : INFO : EPOCH 2 - PROGRESS: at 38.27% examples, 610280 words/s, in_qsize 8, out_qsize 0\n",
      "2021-01-05 00:02:21,519 : INFO : EPOCH 2 - PROGRESS: at 43.45% examples, 613586 words/s, in_qsize 6, out_qsize 1\n",
      "2021-01-05 00:02:22,534 : INFO : EPOCH 2 - PROGRESS: at 48.64% examples, 618137 words/s, in_qsize 8, out_qsize 2\n",
      "2021-01-05 00:02:23,547 : INFO : EPOCH 2 - PROGRESS: at 54.15% examples, 624718 words/s, in_qsize 8, out_qsize 0\n",
      "2021-01-05 00:02:24,573 : INFO : EPOCH 2 - PROGRESS: at 59.69% examples, 631401 words/s, in_qsize 5, out_qsize 2\n",
      "2021-01-05 00:02:25,576 : INFO : EPOCH 2 - PROGRESS: at 65.18% examples, 636875 words/s, in_qsize 8, out_qsize 1\n",
      "2021-01-05 00:02:26,582 : INFO : EPOCH 2 - PROGRESS: at 70.70% examples, 641500 words/s, in_qsize 7, out_qsize 0\n",
      "2021-01-05 00:02:27,584 : INFO : EPOCH 2 - PROGRESS: at 76.98% examples, 652693 words/s, in_qsize 6, out_qsize 1\n",
      "2021-01-05 00:02:28,587 : INFO : EPOCH 2 - PROGRESS: at 83.51% examples, 663951 words/s, in_qsize 7, out_qsize 0\n",
      "2021-01-05 00:02:29,599 : INFO : EPOCH 2 - PROGRESS: at 90.33% examples, 674982 words/s, in_qsize 7, out_qsize 0\n",
      "2021-01-05 00:02:30,632 : INFO : EPOCH 2 - PROGRESS: at 95.83% examples, 675484 words/s, in_qsize 4, out_qsize 3\n",
      "2021-01-05 00:02:31,290 : INFO : worker thread finished; awaiting finish of 3 more threads\n",
      "2021-01-05 00:02:31,300 : INFO : worker thread finished; awaiting finish of 2 more threads\n",
      "2021-01-05 00:02:31,310 : INFO : worker thread finished; awaiting finish of 1 more threads\n",
      "2021-01-05 00:02:31,311 : INFO : worker thread finished; awaiting finish of 0 more threads\n",
      "2021-01-05 00:02:31,312 : INFO : EPOCH - 2 : training on 16708933 raw words (12822226 effective words) took 18.9s, 679103 effective words/s\n",
      "2021-01-05 00:02:32,332 : INFO : EPOCH 3 - PROGRESS: at 4.90% examples, 631058 words/s, in_qsize 5, out_qsize 2\n",
      "2021-01-05 00:02:33,340 : INFO : EPOCH 3 - PROGRESS: at 10.81% examples, 699921 words/s, in_qsize 7, out_qsize 0\n"
     ]
    },
    {
     "name": "stderr",
     "output_type": "stream",
     "text": [
      "2021-01-05 00:02:34,355 : INFO : EPOCH 3 - PROGRESS: at 15.75% examples, 673275 words/s, in_qsize 7, out_qsize 0\n",
      "2021-01-05 00:02:35,358 : INFO : EPOCH 3 - PROGRESS: at 20.35% examples, 652606 words/s, in_qsize 7, out_qsize 0\n",
      "2021-01-05 00:02:36,360 : INFO : EPOCH 3 - PROGRESS: at 24.81% examples, 633102 words/s, in_qsize 8, out_qsize 0\n",
      "2021-01-05 00:02:37,366 : INFO : EPOCH 3 - PROGRESS: at 30.17% examples, 639737 words/s, in_qsize 7, out_qsize 0\n",
      "2021-01-05 00:02:38,382 : INFO : EPOCH 3 - PROGRESS: at 34.48% examples, 627188 words/s, in_qsize 7, out_qsize 0\n",
      "2021-01-05 00:02:39,398 : INFO : EPOCH 3 - PROGRESS: at 38.76% examples, 616851 words/s, in_qsize 6, out_qsize 1\n",
      "2021-01-05 00:02:40,407 : INFO : EPOCH 3 - PROGRESS: at 43.61% examples, 616017 words/s, in_qsize 7, out_qsize 0\n",
      "2021-01-05 00:02:41,408 : INFO : EPOCH 3 - PROGRESS: at 47.71% examples, 606916 words/s, in_qsize 7, out_qsize 0\n",
      "2021-01-05 00:02:42,484 : INFO : EPOCH 3 - PROGRESS: at 49.42% examples, 568148 words/s, in_qsize 7, out_qsize 0\n",
      "2021-01-05 00:02:43,513 : INFO : EPOCH 3 - PROGRESS: at 52.88% examples, 556326 words/s, in_qsize 8, out_qsize 1\n",
      "2021-01-05 00:02:44,526 : INFO : EPOCH 3 - PROGRESS: at 58.57% examples, 569475 words/s, in_qsize 8, out_qsize 2\n",
      "2021-01-05 00:02:45,539 : INFO : EPOCH 3 - PROGRESS: at 63.76% examples, 575907 words/s, in_qsize 8, out_qsize 1\n",
      "2021-01-05 00:02:46,543 : INFO : EPOCH 3 - PROGRESS: at 69.45% examples, 585722 words/s, in_qsize 7, out_qsize 0\n",
      "2021-01-05 00:02:47,559 : INFO : EPOCH 3 - PROGRESS: at 76.16% examples, 602409 words/s, in_qsize 6, out_qsize 1\n",
      "2021-01-05 00:02:48,560 : INFO : EPOCH 3 - PROGRESS: at 82.80% examples, 616833 words/s, in_qsize 7, out_qsize 0\n",
      "2021-01-05 00:02:49,561 : INFO : EPOCH 3 - PROGRESS: at 89.30% examples, 627997 words/s, in_qsize 7, out_qsize 0\n",
      "2021-01-05 00:02:50,575 : INFO : EPOCH 3 - PROGRESS: at 96.06% examples, 639955 words/s, in_qsize 7, out_qsize 0\n",
      "2021-01-05 00:02:51,149 : INFO : worker thread finished; awaiting finish of 3 more threads\n",
      "2021-01-05 00:02:51,156 : INFO : worker thread finished; awaiting finish of 2 more threads\n",
      "2021-01-05 00:02:51,158 : INFO : worker thread finished; awaiting finish of 1 more threads\n",
      "2021-01-05 00:02:51,167 : INFO : worker thread finished; awaiting finish of 0 more threads\n",
      "2021-01-05 00:02:51,168 : INFO : EPOCH - 3 : training on 16708933 raw words (12819722 effective words) took 19.8s, 645892 effective words/s\n",
      "2021-01-05 00:02:52,177 : INFO : EPOCH 4 - PROGRESS: at 5.79% examples, 750154 words/s, in_qsize 7, out_qsize 0\n",
      "2021-01-05 00:02:53,198 : INFO : EPOCH 4 - PROGRESS: at 12.37% examples, 796677 words/s, in_qsize 7, out_qsize 0\n",
      "2021-01-05 00:02:54,229 : INFO : EPOCH 4 - PROGRESS: at 14.62% examples, 622188 words/s, in_qsize 8, out_qsize 0\n",
      "2021-01-05 00:02:55,233 : INFO : EPOCH 4 - PROGRESS: at 18.03% examples, 574947 words/s, in_qsize 8, out_qsize 0\n",
      "2021-01-05 00:02:56,240 : INFO : EPOCH 4 - PROGRESS: at 21.77% examples, 556508 words/s, in_qsize 7, out_qsize 0\n",
      "2021-01-05 00:02:57,258 : INFO : EPOCH 4 - PROGRESS: at 26.15% examples, 552037 words/s, in_qsize 8, out_qsize 3\n",
      "2021-01-05 00:02:58,263 : INFO : EPOCH 4 - PROGRESS: at 30.00% examples, 542543 words/s, in_qsize 7, out_qsize 0\n",
      "2021-01-05 00:02:59,272 : INFO : EPOCH 4 - PROGRESS: at 33.18% examples, 526444 words/s, in_qsize 8, out_qsize 1\n",
      "2021-01-05 00:03:00,274 : INFO : EPOCH 4 - PROGRESS: at 37.44% examples, 529307 words/s, in_qsize 7, out_qsize 0\n",
      "2021-01-05 00:03:01,297 : INFO : EPOCH 4 - PROGRESS: at 40.79% examples, 517774 words/s, in_qsize 7, out_qsize 0\n",
      "2021-01-05 00:03:02,320 : INFO : EPOCH 4 - PROGRESS: at 44.78% examples, 515890 words/s, in_qsize 6, out_qsize 1\n",
      "2021-01-05 00:03:03,345 : INFO : EPOCH 4 - PROGRESS: at 49.06% examples, 517507 words/s, in_qsize 8, out_qsize 1\n",
      "2021-01-05 00:03:04,347 : INFO : EPOCH 4 - PROGRESS: at 54.39% examples, 529453 words/s, in_qsize 7, out_qsize 0\n",
      "2021-01-05 00:03:05,354 : INFO : EPOCH 4 - PROGRESS: at 58.51% examples, 529929 words/s, in_qsize 7, out_qsize 0\n",
      "2021-01-05 00:03:06,376 : INFO : EPOCH 4 - PROGRESS: at 64.81% examples, 547736 words/s, in_qsize 8, out_qsize 0\n",
      "2021-01-05 00:03:07,384 : INFO : EPOCH 4 - PROGRESS: at 69.20% examples, 548288 words/s, in_qsize 7, out_qsize 0\n",
      "2021-01-05 00:03:08,390 : INFO : EPOCH 4 - PROGRESS: at 74.51% examples, 556409 words/s, in_qsize 7, out_qsize 1\n",
      "2021-01-05 00:03:09,391 : INFO : EPOCH 4 - PROGRESS: at 79.81% examples, 562940 words/s, in_qsize 7, out_qsize 0\n",
      "2021-01-05 00:03:10,398 : INFO : EPOCH 4 - PROGRESS: at 86.41% examples, 576972 words/s, in_qsize 7, out_qsize 0\n",
      "2021-01-05 00:03:11,406 : INFO : EPOCH 4 - PROGRESS: at 93.11% examples, 590325 words/s, in_qsize 8, out_qsize 0\n",
      "2021-01-05 00:03:12,430 : INFO : EPOCH 4 - PROGRESS: at 99.05% examples, 597674 words/s, in_qsize 6, out_qsize 1\n",
      "2021-01-05 00:03:12,554 : INFO : worker thread finished; awaiting finish of 3 more threads\n",
      "2021-01-05 00:03:12,566 : INFO : worker thread finished; awaiting finish of 2 more threads\n",
      "2021-01-05 00:03:12,571 : INFO : worker thread finished; awaiting finish of 1 more threads\n",
      "2021-01-05 00:03:12,578 : INFO : worker thread finished; awaiting finish of 0 more threads\n",
      "2021-01-05 00:03:12,579 : INFO : EPOCH - 4 : training on 16708933 raw words (12821859 effective words) took 21.4s, 599014 effective words/s\n",
      "2021-01-05 00:03:13,589 : INFO : EPOCH 5 - PROGRESS: at 5.54% examples, 720738 words/s, in_qsize 6, out_qsize 1\n",
      "2021-01-05 00:03:14,593 : INFO : EPOCH 5 - PROGRESS: at 11.22% examples, 730555 words/s, in_qsize 7, out_qsize 0\n",
      "2021-01-05 00:03:15,594 : INFO : EPOCH 5 - PROGRESS: at 16.81% examples, 722524 words/s, in_qsize 8, out_qsize 0\n",
      "2021-01-05 00:03:16,597 : INFO : EPOCH 5 - PROGRESS: at 22.15% examples, 714178 words/s, in_qsize 8, out_qsize 1\n",
      "2021-01-05 00:03:17,599 : INFO : EPOCH 5 - PROGRESS: at 28.21% examples, 721575 words/s, in_qsize 8, out_qsize 1\n",
      "2021-01-05 00:03:18,608 : INFO : EPOCH 5 - PROGRESS: at 34.23% examples, 730657 words/s, in_qsize 7, out_qsize 0\n",
      "2021-01-05 00:03:19,638 : INFO : EPOCH 5 - PROGRESS: at 40.13% examples, 731426 words/s, in_qsize 7, out_qsize 0\n",
      "2021-01-05 00:03:20,644 : INFO : EPOCH 5 - PROGRESS: at 46.34% examples, 738105 words/s, in_qsize 7, out_qsize 0\n",
      "2021-01-05 00:03:21,650 : INFO : EPOCH 5 - PROGRESS: at 53.23% examples, 753496 words/s, in_qsize 8, out_qsize 0\n",
      "2021-01-05 00:03:22,657 : INFO : EPOCH 5 - PROGRESS: at 59.99% examples, 765014 words/s, in_qsize 7, out_qsize 0\n",
      "2021-01-05 00:03:23,669 : INFO : EPOCH 5 - PROGRESS: at 66.80% examples, 773911 words/s, in_qsize 7, out_qsize 0\n",
      "2021-01-05 00:03:24,674 : INFO : EPOCH 5 - PROGRESS: at 73.62% examples, 783151 words/s, in_qsize 7, out_qsize 0\n",
      "2021-01-05 00:03:25,676 : INFO : EPOCH 5 - PROGRESS: at 80.47% examples, 789836 words/s, in_qsize 7, out_qsize 0\n",
      "2021-01-05 00:03:26,678 : INFO : EPOCH 5 - PROGRESS: at 87.41% examples, 796229 words/s, in_qsize 7, out_qsize 0\n",
      "2021-01-05 00:03:27,681 : INFO : EPOCH 5 - PROGRESS: at 94.43% examples, 802366 words/s, in_qsize 7, out_qsize 0\n",
      "2021-01-05 00:03:28,472 : INFO : worker thread finished; awaiting finish of 3 more threads\n",
      "2021-01-05 00:03:28,479 : INFO : worker thread finished; awaiting finish of 2 more threads\n",
      "2021-01-05 00:03:28,485 : INFO : worker thread finished; awaiting finish of 1 more threads\n",
      "2021-01-05 00:03:28,488 : INFO : worker thread finished; awaiting finish of 0 more threads\n",
      "2021-01-05 00:03:28,490 : INFO : EPOCH - 5 : training on 16708933 raw words (12820782 effective words) took 15.9s, 806141 effective words/s\n",
      "2021-01-05 00:03:28,492 : INFO : training on a 83544665 raw words (64106876 effective words) took 95.9s, 668325 effective words/s\n",
      "2021-01-05 00:03:28,502 : INFO : saving Word2Vec object under word2vec.model, separately None\n",
      "2021-01-05 00:03:28,505 : INFO : storing np array 'vectors' to word2vec.model.wv.vectors.npy\n",
      "2021-01-05 00:03:28,653 : INFO : not storing attribute vectors_norm\n",
      "2021-01-05 00:03:28,657 : INFO : storing np array 'syn1neg' to word2vec.model.trainables.syn1neg.npy\n",
      "2021-01-05 00:03:28,871 : INFO : not storing attribute cum_table\n",
      "2021-01-05 00:03:29,144 : INFO : saved word2vec.model\n"
     ]
    }
   ],
   "source": [
    "logging.basicConfig(format='%(asctime)s : %(levelname)s : %(message)s', level=logging.INFO)\n",
    "\n",
    "model = Word2Vec(sentences=train_corpus_sent, size=100, window=5, min_count=1, workers=4)\n",
    "model.save(\"word2vec.model\")"
   ]
  },
  {
   "cell_type": "code",
   "execution_count": 47,
   "metadata": {},
   "outputs": [
    {
     "name": "stderr",
     "output_type": "stream",
     "text": [
      "C:\\Users\\Shaked Bogin\\anaconda3\\lib\\site-packages\\ipykernel_launcher.py:1: DeprecationWarning: Call to deprecated `__getitem__` (Method will be removed in 4.0.0, use self.wv.__getitem__() instead).\n",
      "  \"\"\"Entry point for launching an IPython kernel.\n"
     ]
    },
    {
     "data": {
      "text/plain": [
       "array([-2.6998702e-01,  1.6276693e+00,  1.4316514e+00,  1.2926338e+00,\n",
       "        4.6774679e-01, -1.0191780e+00,  3.9660096e-01,  1.3097521e+00,\n",
       "        3.2560649e+00,  5.4369879e-01, -1.5703678e+00,  1.3705642e+00,\n",
       "       -9.2340016e-01,  2.5605705e+00,  7.7182823e-01, -2.0677996e+00,\n",
       "       -2.9655948e+00,  1.1197127e+00,  1.2027401e+00, -1.6874902e+00,\n",
       "       -2.1021155e-01, -6.2181294e-01,  9.3918800e-01,  4.0579537e-01,\n",
       "        3.7767705e-02, -6.8268162e-01, -7.1864597e-02, -2.2377168e-01,\n",
       "        8.8156229e-01, -9.3605691e-01, -3.6234128e-01, -5.2096397e-01,\n",
       "        3.4542792e+00, -1.8880786e+00, -1.9158125e-01, -1.1951858e+00,\n",
       "       -1.4449600e+00,  6.3893026e-01,  3.0421238e+00, -2.7934980e-01,\n",
       "        1.4559193e+00,  1.6565206e+00, -7.2722322e-01, -1.3122144e+00,\n",
       "       -7.4162537e-01, -6.8943334e-01, -1.6569074e+00, -1.0421550e+00,\n",
       "        1.2067381e+00,  2.4737129e+00, -1.8356407e+00, -2.4044242e+00,\n",
       "        2.2631714e+00, -6.8500519e-01, -3.3097012e+00,  1.6278951e+00,\n",
       "        2.5269408e+00,  2.1402552e+00, -5.9559830e-02, -1.6353744e+00,\n",
       "        1.6440476e+00, -4.9484316e-01, -1.3385345e-01,  4.6271831e-01,\n",
       "       -5.1971912e-01, -3.6191660e-01, -2.6054442e+00, -5.4629892e-01,\n",
       "       -2.5294733e-01,  9.9929339e-01,  2.9492195e+00, -3.0600286e+00,\n",
       "       -4.8809323e-01,  1.1008747e+00,  3.1445827e+00, -5.6513786e-01,\n",
       "       -1.0665456e+00,  4.8004723e-01,  5.0947404e-01, -2.3976320e-01,\n",
       "        3.6471050e+00,  5.0463921e-01,  9.1976964e-01,  1.9207736e+00,\n",
       "       -1.4608538e+00,  1.8721658e-03,  3.4204100e-03,  3.7386072e-01,\n",
       "        1.4395406e+00, -2.3268931e+00, -1.7086550e+00,  9.7993976e-01,\n",
       "       -1.5016429e+00,  1.7139785e+00, -4.1734064e-01,  1.0111506e+00,\n",
       "        5.9893572e-01, -5.3171816e+00,  4.5786157e+00, -3.0603757e+00],\n",
       "      dtype=float32)"
      ]
     },
     "execution_count": 47,
     "metadata": {},
     "output_type": "execute_result"
    }
   ],
   "source": [
    "model['found']"
   ]
  },
  {
   "cell_type": "markdown",
   "metadata": {},
   "source": [
    "### I found that some of the words from the 'test data' do not appear in the model vocab (created by training the model). So I decided to make a filter and take out the words that are not in the vocab."
   ]
  },
  {
   "cell_type": "code",
   "execution_count": 48,
   "metadata": {},
   "outputs": [],
   "source": [
    "def filter_col(row):\n",
    "    row = list(row)\n",
    "    list_vocab = list(model.wv.vocab.keys())\n",
    "    filtered_words = list(filter(lambda word: word in list_vocab, row))\n",
    "    return list(filtered_words)\n",
    "\n"
   ]
  },
  {
   "cell_type": "code",
   "execution_count": 49,
   "metadata": {},
   "outputs": [],
   "source": [
    "X_train['filter_col'] = [filter_col(line) for line in X_train['tokenized_text']] \n",
    "X_test['filter_col'] = [filter_col(line) for line in X_test['tokenized_text']] \n",
    "\n"
   ]
  },
  {
   "cell_type": "code",
   "execution_count": 57,
   "metadata": {},
   "outputs": [
    {
     "name": "stdout",
     "output_type": "stream",
     "text": [
      "<class 'pandas.core.frame.DataFrame'>\n",
      "RangeIndex: 157850 entries, 0 to 157849\n",
      "Data columns (total 4 columns):\n",
      " #   Column          Non-Null Count   Dtype \n",
      "---  ------          --------------   ----- \n",
      " 0   index           157850 non-null  int64 \n",
      " 1   tokenized_text  157850 non-null  object\n",
      " 2   Vectors         157850 non-null  object\n",
      " 3   filter_col      157850 non-null  object\n",
      "dtypes: int64(1), object(3)\n",
      "memory usage: 4.8+ MB\n"
     ]
    }
   ],
   "source": [
    "X_train.info()"
   ]
  },
  {
   "cell_type": "code",
   "execution_count": 51,
   "metadata": {},
   "outputs": [
    {
     "name": "stdout",
     "output_type": "stream",
     "text": [
      "<class 'pandas.core.frame.DataFrame'>\n",
      "RangeIndex: 526167 entries, 0 to 526166\n",
      "Data columns (total 4 columns):\n",
      " #   Column          Non-Null Count   Dtype \n",
      "---  ------          --------------   ----- \n",
      " 0   text            526167 non-null  object\n",
      " 1   stars           526167 non-null  int64 \n",
      " 2   tokenized_text  526167 non-null  object\n",
      " 3   grade_frase     526167 non-null  object\n",
      "dtypes: int64(1), object(3)\n",
      "memory usage: 16.1+ MB\n"
     ]
    }
   ],
   "source": [
    "df.info()"
   ]
  },
  {
   "cell_type": "markdown",
   "metadata": {},
   "source": [
    "### I made a function that will collect all word-vectors from the words in the review into a list and return the mean vector for that row"
   ]
  },
  {
   "cell_type": "code",
   "execution_count": 59,
   "metadata": {},
   "outputs": [],
   "source": [
    "\n",
    "def add_mean_vec(row):\n",
    "   \n",
    "    list_mean = []\n",
    "    for word in row:\n",
    "        vec = model[word]\n",
    "        list_mean.append(vec)\n",
    "    mean_vec = np.mean(list_mean,axis=0)\n",
    "    return mean_vec"
   ]
  },
  {
   "cell_type": "code",
   "execution_count": 60,
   "metadata": {},
   "outputs": [
    {
     "name": "stderr",
     "output_type": "stream",
     "text": [
      "C:\\Users\\Shaked Bogin\\anaconda3\\lib\\site-packages\\ipykernel_launcher.py:5: DeprecationWarning: Call to deprecated `__getitem__` (Method will be removed in 4.0.0, use self.wv.__getitem__() instead).\n",
      "  \"\"\"\n",
      "C:\\Users\\Shaked Bogin\\anaconda3\\lib\\site-packages\\numpy\\core\\fromnumeric.py:3373: RuntimeWarning: Mean of empty slice.\n",
      "  out=out, **kwargs)\n",
      "C:\\Users\\Shaked Bogin\\anaconda3\\lib\\site-packages\\numpy\\core\\_methods.py:170: RuntimeWarning: invalid value encountered in double_scalars\n",
      "  ret = ret.dtype.type(ret / rcount)\n"
     ]
    }
   ],
   "source": [
    "X_train['mean_vec'] = [add_mean_vec(line) for line in X_train['filter_col']] \n",
    "X_test['mean_vec'] = [add_mean_vec(line) for line in X_test['filter_col']] \n",
    "\n"
   ]
  },
  {
   "cell_type": "code",
   "execution_count": 62,
   "metadata": {},
   "outputs": [],
   "source": [
    "Y_train['grade_frase'] = [ map_grade(x) for x in Y_train['stars']]\n",
    "Y_test['grade_frase'] = [ map_grade(x) for x in Y_test['stars']]"
   ]
  },
  {
   "cell_type": "markdown",
   "metadata": {},
   "source": [
    "### I needed to reconnect the data so I could remove the rows with blank values in a way that does not compromise the uniformity of the data of X with Y\n",
    "### I tried lots of methods, this is the only way I was able to lower the 'nan' values (I guess it was because it's an array value)"
   ]
  },
  {
   "cell_type": "code",
   "execution_count": 63,
   "metadata": {},
   "outputs": [],
   "source": [
    "frames1 = [X_train,X_test]\n",
    "df1 = pd.concat(frames1)\n",
    "\n",
    "frames2 = [Y_train,Y_test]\n",
    "df2 = pd.concat(frames2)\n",
    "\n",
    "df_new = pd.concat([df1, df2], axis=1, sort=False)\n",
    "\n"
   ]
  },
  {
   "cell_type": "code",
   "execution_count": 64,
   "metadata": {},
   "outputs": [
    {
     "name": "stdout",
     "output_type": "stream",
     "text": [
      "<class 'pandas.core.frame.DataFrame'>\n",
      "Int64Index: 526167 entries, 0 to 368316\n",
      "Data columns (total 8 columns):\n",
      " #   Column          Non-Null Count   Dtype \n",
      "---  ------          --------------   ----- \n",
      " 0   index           526167 non-null  int64 \n",
      " 1   tokenized_text  526167 non-null  object\n",
      " 2   Vectors         526167 non-null  object\n",
      " 3   filter_col      526167 non-null  object\n",
      " 4   mean_vec        526115 non-null  object\n",
      " 5   index           526167 non-null  int64 \n",
      " 6   stars           526167 non-null  int64 \n",
      " 7   grade_frase     526167 non-null  object\n",
      "dtypes: int64(3), object(5)\n",
      "memory usage: 36.1+ MB\n"
     ]
    }
   ],
   "source": [
    "df_new.info()\n"
   ]
  },
  {
   "cell_type": "code",
   "execution_count": 65,
   "metadata": {},
   "outputs": [
    {
     "name": "stderr",
     "output_type": "stream",
     "text": [
      "2021-01-05 08:29:56,857 : INFO : NumExpr defaulting to 4 threads.\n"
     ]
    },
    {
     "name": "stdout",
     "output_type": "stream",
     "text": [
      "<class 'pandas.core.frame.DataFrame'>\n",
      "Int64Index: 526115 entries, 0 to 368316\n",
      "Data columns (total 8 columns):\n",
      " #   Column          Non-Null Count   Dtype \n",
      "---  ------          --------------   ----- \n",
      " 0   index           526115 non-null  int64 \n",
      " 1   tokenized_text  526115 non-null  object\n",
      " 2   Vectors         526115 non-null  object\n",
      " 3   filter_col      526115 non-null  object\n",
      " 4   mean_vec        526115 non-null  object\n",
      " 5   index           526115 non-null  int64 \n",
      " 6   stars           526115 non-null  int64 \n",
      " 7   grade_frase     526115 non-null  object\n",
      "dtypes: int64(3), object(5)\n",
      "memory usage: 36.1+ MB\n"
     ]
    }
   ],
   "source": [
    "df_new.dropna(inplace= True)\n",
    "\n",
    "df_new.info()"
   ]
  },
  {
   "cell_type": "markdown",
   "metadata": {},
   "source": [
    "### Split the data again "
   ]
  },
  {
   "cell_type": "code",
   "execution_count": 66,
   "metadata": {},
   "outputs": [
    {
     "name": "stdout",
     "output_type": "stream",
     "text": [
      "Value counts for Train sentiments\n",
      "good    104324\n",
      "bad      53510\n",
      "Name: grade_frase, dtype: int64\n",
      "Value counts for Test sentiments\n",
      "good    243001\n",
      "bad     125280\n",
      "Name: grade_frase, dtype: int64\n",
      "<class 'pandas.core.series.Series'>\n",
      "<class 'pandas.core.series.Series'>\n",
      "    index                                           mean_vec\n",
      "0  149112  [-0.008459597, -0.04679827, -1.3015748, 0.5947...\n",
      "1  103568  [-0.53021246, -0.14389914, -1.1406894, 0.35460...\n",
      "2  100787  [-0.6083888, -0.19119693, -0.25313437, 1.03366...\n",
      "3  152012  [-0.42354083, -0.01529487, -1.0871297, 0.60597...\n",
      "4  143392  [-0.12044074, 0.37441355, -1.0344857, 0.293194...\n"
     ]
    }
   ],
   "source": [
    "def split_train_test(df, test_size=0.7, shuffle_state=True):\n",
    "    X_train, X_test, Y_train, Y_test = train_test_split(df_new['mean_vec'], \n",
    "                                                        df_new['grade_frase'], \n",
    "                                                        shuffle=shuffle_state,\n",
    "                                                        test_size=test_size, \n",
    "                                                        random_state=15)\n",
    "    print(\"Value counts for Train sentiments\")\n",
    "    print(Y_train.value_counts())\n",
    "    print(\"Value counts for Test sentiments\")\n",
    "    print(Y_test.value_counts())\n",
    "    print(type(X_train))\n",
    "    print(type(Y_train))\n",
    "    X_train = X_train.reset_index()\n",
    "    X_test = X_test.reset_index()\n",
    "    Y_train = Y_train.to_frame()\n",
    "    Y_train = Y_train.reset_index()\n",
    "    Y_test = Y_test.to_frame()\n",
    "    Y_test = Y_test.reset_index()\n",
    "    print(X_train.head())\n",
    "    return X_train, X_test, Y_train, Y_test\n",
    "\n",
    "# Call the train_test_split\n",
    "X_train_n, X_test_n, Y_train_n, Y_test_n = split_train_test(df_new)"
   ]
  },
  {
   "cell_type": "code",
   "execution_count": 67,
   "metadata": {},
   "outputs": [
    {
     "name": "stdout",
     "output_type": "stream",
     "text": [
      "<class 'pandas.core.frame.DataFrame'>\n",
      "RangeIndex: 157834 entries, 0 to 157833\n",
      "Data columns (total 2 columns):\n",
      " #   Column    Non-Null Count   Dtype \n",
      "---  ------    --------------   ----- \n",
      " 0   index     157834 non-null  int64 \n",
      " 1   mean_vec  157834 non-null  object\n",
      "dtypes: int64(1), object(1)\n",
      "memory usage: 2.4+ MB\n"
     ]
    }
   ],
   "source": [
    "X_train_n.info()"
   ]
  },
  {
   "cell_type": "code",
   "execution_count": 69,
   "metadata": {},
   "outputs": [
    {
     "name": "stdout",
     "output_type": "stream",
     "text": [
      "<class 'pandas.core.frame.DataFrame'>\n",
      "RangeIndex: 368281 entries, 0 to 368280\n",
      "Data columns (total 2 columns):\n",
      " #   Column    Non-Null Count   Dtype \n",
      "---  ------    --------------   ----- \n",
      " 0   index     368281 non-null  int64 \n",
      " 1   mean_vec  368281 non-null  object\n",
      "dtypes: int64(1), object(1)\n",
      "memory usage: 5.6+ MB\n"
     ]
    }
   ],
   "source": [
    "X_test_n.info()"
   ]
  },
  {
   "cell_type": "code",
   "execution_count": 71,
   "metadata": {},
   "outputs": [],
   "source": [
    "train_vecctors_mean = list(X_train_n['mean_vec'])\n",
    "\n",
    "test_vectors_mean = list(X_test_n['mean_vec'])"
   ]
  },
  {
   "cell_type": "code",
   "execution_count": 72,
   "metadata": {},
   "outputs": [],
   "source": [
    "train_grades = list(Y_train_n['grade_frase'])\n",
    "test_grades = list(Y_test_n['grade_frase'])"
   ]
  },
  {
   "cell_type": "markdown",
   "metadata": {},
   "source": [
    "### Training the LogisticRegression model again"
   ]
  },
  {
   "cell_type": "code",
   "execution_count": 75,
   "metadata": {},
   "outputs": [
    {
     "name": "stderr",
     "output_type": "stream",
     "text": [
      "C:\\Users\\Shaked Bogin\\anaconda3\\lib\\site-packages\\sklearn\\linear_model\\_logistic.py:764: ConvergenceWarning: lbfgs failed to converge (status=1):\n",
      "STOP: TOTAL NO. of ITERATIONS REACHED LIMIT.\n",
      "\n",
      "Increase the number of iterations (max_iter) or scale the data as shown in:\n",
      "    https://scikit-learn.org/stable/modules/preprocessing.html\n",
      "Please also refer to the documentation for alternative solver options:\n",
      "    https://scikit-learn.org/stable/modules/linear_model.html#logistic-regression\n",
      "  extra_warning_msg=_LOGISTIC_SOLVER_CONVERGENCE_MSG)\n"
     ]
    },
    {
     "data": {
      "text/plain": [
       "LogisticRegression(C=100000.0, n_jobs=1)"
      ]
     },
     "execution_count": 75,
     "metadata": {},
     "output_type": "execute_result"
    }
   ],
   "source": [
    "\n",
    "log_reg = LogisticRegression(n_jobs=1, C=1e5)\n",
    "log_reg.fit(train_vecctors_mean, train_grades)"
   ]
  },
  {
   "cell_type": "code",
   "execution_count": 76,
   "metadata": {},
   "outputs": [
    {
     "name": "stdout",
     "output_type": "stream",
     "text": [
      "Testing accuracy 0.8675630836236461\n"
     ]
    }
   ],
   "source": [
    "y_pred_n = logreg.predict(test_vectors_mean)\n",
    "from sklearn.metrics import accuracy_score, f1_score\n",
    "print('Testing accuracy %s' % accuracy_score(test_grades, y_pred_n))"
   ]
  },
  {
   "cell_type": "markdown",
   "metadata": {},
   "source": [
    "### Here we can see that the model predicted much better than the others.\n",
    "### I think the way we took the weight of each word separately and included them together gave a stronger meaning to the words that affect the tone of the review. There are words that have stronger value when they stand alone than when they are within a sentence or a phrase. "
   ]
  },
  {
   "cell_type": "code",
   "execution_count": null,
   "metadata": {},
   "outputs": [],
   "source": []
  },
  {
   "cell_type": "code",
   "execution_count": null,
   "metadata": {},
   "outputs": [],
   "source": []
  },
  {
   "cell_type": "code",
   "execution_count": null,
   "metadata": {},
   "outputs": [],
   "source": []
  }
 ],
 "metadata": {
  "colab": {
   "collapsed_sections": [],
   "name": "Task_2_shaked.ipynb",
   "provenance": []
  },
  "kernelspec": {
   "display_name": "Python 3 (ipykernel)",
   "language": "python",
   "name": "python3"
  },
  "language_info": {
   "codemirror_mode": {
    "name": "ipython",
    "version": 3
   },
   "file_extension": ".py",
   "mimetype": "text/x-python",
   "name": "python",
   "nbconvert_exporter": "python",
   "pygments_lexer": "ipython3",
   "version": "3.9.7"
  }
 },
 "nbformat": 4,
 "nbformat_minor": 1
}
